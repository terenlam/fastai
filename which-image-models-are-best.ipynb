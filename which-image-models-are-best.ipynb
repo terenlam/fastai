{
  "metadata": {
    "kernelspec": {
      "language": "python",
      "display_name": "Python 3",
      "name": "python3"
    },
    "language_info": {
      "name": "python",
      "version": "3.7.12",
      "mimetype": "text/x-python",
      "codemirror_mode": {
        "name": "ipython",
        "version": 3
      },
      "pygments_lexer": "ipython3",
      "nbconvert_exporter": "python",
      "file_extension": ".py"
    },
    "kaggle": {
      "accelerator": "none",
      "dataSources": [],
      "dockerImageVersionId": 30184,
      "isInternetEnabled": true,
      "language": "python",
      "sourceType": "notebook",
      "isGpuEnabled": false
    },
    "colab": {
      "provenance": []
    }
  },
  "nbformat_minor": 0,
  "nbformat": 4,
  "cells": [
    {
      "cell_type": "markdown",
      "source": [
        "*The data, concept, and initial implementation of this notebook was done in Colab by Ross Wightman, the creator of timm. I (Jeremy Howard) did some refactoring, curating, and expanding of the analysis, and added prose.*"
      ],
      "metadata": {
        "id": "74INaP2O0KSf"
      }
    },
    {
      "cell_type": "markdown",
      "source": [
        "## timm\n",
        "\n",
        "[PyTorch Image Models](https://timm.fast.ai/) (timm) is a wonderful library by Ross Wightman which provides state-of-the-art pre-trained computer vision models. It's like Huggingface Transformers, but for computer vision instead of NLP (and it's not restricted to transformers-based models)!\n",
        "\n",
        "Ross has been kind enough to help me understand how to best take advantage of this library by identifying the top models. I'm going to share here so of what I've learned from him, plus some additional ideas."
      ],
      "metadata": {
        "id": "HHmgU8ub0KSg"
      }
    },
    {
      "cell_type": "markdown",
      "source": [
        "## The data\n",
        "\n",
        "Ross regularly benchmarks new models as they are added to timm, and puts the results in a CSV in the project's GitHub repo. To analyse the data, we'll first clone the repo:"
      ],
      "metadata": {
        "id": "6sa-67Rb0KSg"
      }
    },
    {
      "cell_type": "code",
      "source": [
        "! git clone --depth 1 https://github.com/rwightman/pytorch-image-models.git\n",
        "%cd pytorch-image-models/results"
      ],
      "metadata": {
        "execution": {
          "iopub.status.busy": "2025-06-13T23:06:46.002872Z",
          "iopub.execute_input": "2025-06-13T23:06:46.003170Z",
          "iopub.status.idle": "2025-06-13T23:06:48.507302Z",
          "shell.execute_reply.started": "2025-06-13T23:06:46.003136Z",
          "shell.execute_reply": "2025-06-13T23:06:48.506315Z"
        },
        "trusted": true,
        "id": "x-pQY-Wq0KSg",
        "outputId": "09d73799-8eec-489f-82e3-3bc89a19a46c",
        "colab": {
          "base_uri": "https://localhost:8080/"
        }
      },
      "outputs": [
        {
          "output_type": "stream",
          "name": "stdout",
          "text": [
            "Cloning into 'pytorch-image-models'...\n",
            "remote: Enumerating objects: 460, done.\u001b[K\n",
            "remote: Counting objects: 100% (460/460), done.\u001b[K\n",
            "remote: Compressing objects: 100% (378/378), done.\u001b[K\n",
            "remote: Total 460 (delta 108), reused 246 (delta 78), pack-reused 0 (from 0)\u001b[K\n",
            "Receiving objects: 100% (460/460), 2.89 MiB | 4.75 MiB/s, done.\n",
            "Resolving deltas: 100% (108/108), done.\n",
            "/content/pytorch-image-models/results\n"
          ]
        }
      ],
      "execution_count": 1
    },
    {
      "cell_type": "markdown",
      "source": [
        "Using Pandas, we can read the two CSV files we need, and merge them together."
      ],
      "metadata": {
        "id": "IYwR_Isg0KSg"
      }
    },
    {
      "cell_type": "code",
      "source": [
        "import pandas as pd\n",
        "df_results = pd.read_csv('results-imagenet.csv')"
      ],
      "metadata": {
        "execution": {
          "iopub.status.busy": "2025-06-13T23:06:50.560644Z",
          "iopub.execute_input": "2025-06-13T23:06:50.561109Z",
          "iopub.status.idle": "2025-06-13T23:06:50.577488Z",
          "shell.execute_reply.started": "2025-06-13T23:06:50.561064Z",
          "shell.execute_reply": "2025-06-13T23:06:50.576525Z"
        },
        "trusted": true,
        "id": "yUHZ9sgz0KSg"
      },
      "outputs": [],
      "execution_count": 2
    },
    {
      "cell_type": "code",
      "source": [
        "df_results['model_org'] = df_results['model']\n",
        "df_results['model'] = df_results['model'].str.split('.').str[0]"
      ],
      "metadata": {
        "execution": {
          "iopub.status.busy": "2025-06-13T23:06:53.252287Z",
          "iopub.execute_input": "2025-06-13T23:06:53.252580Z",
          "iopub.status.idle": "2025-06-13T23:06:53.273399Z",
          "shell.execute_reply.started": "2025-06-13T23:06:53.252550Z",
          "shell.execute_reply": "2025-06-13T23:06:53.272221Z"
        },
        "trusted": true,
        "id": "tNI-cddp0KSg"
      },
      "outputs": [],
      "execution_count": 3
    },
    {
      "cell_type": "markdown",
      "source": [
        "We'll also add a \"family\" column that will allow us to group architectures into categories with similar characteristics:\n",
        "\n",
        "Ross has told me which models he's found the most usable in practice, so I'll limit the charts to just look at these. (I also include VGG, not because it's good, but as a comparison to show how far things have come in the last few years.)"
      ],
      "metadata": {
        "id": "Iiv0SxK70KSh"
      }
    },
    {
      "cell_type": "code",
      "source": [
        "def get_data(part, col):\n",
        "    df = pd.read_csv(f'benchmark-{part}-amp-nhwc-pt113-cu117-rtx3090.csv').merge(df_results, on='model')\n",
        "    df['secs'] = 1. / df[col]\n",
        "    df['family'] = df.model.str.extract('^([a-z]+?(?:v2)?)(?:\\d|_|$)')\n",
        "    df = df[~df.model.str.endswith('gn')]\n",
        "    df.loc[df.model.str.contains('in22'),'family'] = df.loc[df.model.str.contains('in22'),'family'] + '_in22'\n",
        "    df.loc[df.model.str.contains('resnet.*d'),'family'] = df.loc[df.model.str.contains('resnet.*d'),'family'] + 'd'\n",
        "    return df[df.family.str.contains('^re[sg]netd?|beit|convnext|levit|efficient|vit|vgg|swin')]"
      ],
      "metadata": {
        "execution": {
          "iopub.status.busy": "2025-06-13T23:06:55.131377Z",
          "iopub.execute_input": "2025-06-13T23:06:55.131702Z",
          "iopub.status.idle": "2025-06-13T23:06:55.139596Z",
          "shell.execute_reply.started": "2025-06-13T23:06:55.131652Z",
          "shell.execute_reply": "2025-06-13T23:06:55.138586Z"
        },
        "trusted": true,
        "id": "yAjgit4l0KSh"
      },
      "outputs": [],
      "execution_count": 4
    },
    {
      "cell_type": "code",
      "source": [
        "df = get_data('infer', 'infer_samples_per_sec')"
      ],
      "metadata": {
        "execution": {
          "iopub.status.busy": "2025-06-13T23:06:56.399668Z",
          "iopub.execute_input": "2025-06-13T23:06:56.400005Z",
          "iopub.status.idle": "2025-06-13T23:06:56.440802Z",
          "shell.execute_reply.started": "2025-06-13T23:06:56.399965Z",
          "shell.execute_reply": "2025-06-13T23:06:56.439883Z"
        },
        "trusted": true,
        "id": "l1XUKTW20KSh"
      },
      "outputs": [],
      "execution_count": 5
    },
    {
      "cell_type": "markdown",
      "source": [
        "## Inference results"
      ],
      "metadata": {
        "id": "8-ICgENH0KSh"
      }
    },
    {
      "cell_type": "markdown",
      "source": [
        "Here's the results for inference performance (see the last section for training performance). In this chart:\n",
        "\n",
        "- the x axis shows how many seconds it takes to process one image (**note**: it's a log scale)\n",
        "- the y axis is the accuracy on Imagenet\n",
        "- the size of each bubble is proportional to the size of images used in testing\n",
        "- the color shows what \"family\" the architecture is from.\n",
        "\n",
        "Hover your mouse over a marker to see details about the model. Double-click in the legend to display just one family. Single-click in the legend to show or hide a family.\n",
        "\n",
        "**Note**: on my screen, Kaggle cuts off the family selector and some plotly functionality -- to see the whole thing, collapse the table of contents on the right by clicking the little arrow to the right of \"*Contents*\"."
      ],
      "metadata": {
        "id": "pNBj14ct0KSh"
      }
    },
    {
      "cell_type": "code",
      "source": [
        "import plotly.express as px\n",
        "w,h = 1000,800\n",
        "\n",
        "def show_all(df, title, size):\n",
        "    return px.scatter(df, width=w, height=h, size=df[size]**2, title=title,\n",
        "        x='secs',  y='top1', log_x=True, color='family', hover_name='model_org', hover_data=[size])"
      ],
      "metadata": {
        "execution": {
          "iopub.status.busy": "2025-06-13T23:07:01.623908Z",
          "iopub.execute_input": "2025-06-13T23:07:01.624226Z",
          "iopub.status.idle": "2025-06-13T23:07:01.630443Z",
          "shell.execute_reply.started": "2025-06-13T23:07:01.624191Z",
          "shell.execute_reply": "2025-06-13T23:07:01.629429Z"
        },
        "trusted": true,
        "id": "RupQOWwt0KSh"
      },
      "outputs": [],
      "execution_count": 6
    },
    {
      "cell_type": "code",
      "source": [
        "show_all(df, 'Inference', 'infer_img_size')"
      ],
      "metadata": {
        "execution": {
          "iopub.status.busy": "2025-06-13T23:14:26.619022Z",
          "iopub.execute_input": "2025-06-13T23:14:26.619312Z",
          "iopub.status.idle": "2025-06-13T23:14:26.899119Z",
          "shell.execute_reply.started": "2025-06-13T23:14:26.619284Z",
          "shell.execute_reply": "2025-06-13T23:14:26.897755Z"
        },
        "trusted": true,
        "id": "oJxoepMu0KSh",
        "outputId": "11da4a96-56f3-42e5-8d2a-e9692dff3b91",
        "colab": {
          "base_uri": "https://localhost:8080/",
          "height": 837
        }
      },
      "outputs": [
        {
          "output_type": "display_data",
          "data": {
            "text/html": [
              "<html>\n",
              "<head><meta charset=\"utf-8\" /></head>\n",
              "<body>\n",
              "    <div>            <script src=\"https://cdnjs.cloudflare.com/ajax/libs/mathjax/2.7.5/MathJax.js?config=TeX-AMS-MML_SVG\"></script><script type=\"text/javascript\">if (window.MathJax && window.MathJax.Hub && window.MathJax.Hub.Config) {window.MathJax.Hub.Config({SVG: {font: \"STIX-Web\"}});}</script>                <script type=\"text/javascript\">window.PlotlyConfig = {MathJaxConfig: 'local'};</script>\n",
              "        <script charset=\"utf-8\" src=\"https://cdn.plot.ly/plotly-2.35.2.min.js\"></script>                <div id=\"715cb19a-d327-4bc0-adea-16ed5a1d0406\" class=\"plotly-graph-div\" style=\"height:800px; width:1000px;\"></div>            <script type=\"text/javascript\">                                    window.PLOTLYENV=window.PLOTLYENV || {};                                    if (document.getElementById(\"715cb19a-d327-4bc0-adea-16ed5a1d0406\")) {                    Plotly.newPlot(                        \"715cb19a-d327-4bc0-adea-16ed5a1d0406\",                        [{\"customdata\":[[224],[224],[224],[224],[224],[224],[224],[224],[224],[224],[224],[224],[224],[224],[224],[224],[224],[224]],\"hovertemplate\":\"\\u003cb\\u003e%{hovertext}\\u003c\\u002fb\\u003e\\u003cbr\\u003e\\u003cbr\\u003efamily=regnetx\\u003cbr\\u003esecs=%{x}\\u003cbr\\u003etop1=%{y}\\u003cbr\\u003esize=%{marker.size}\\u003cbr\\u003einfer_img_size=%{customdata[0]}\\u003cextra\\u003e\\u003c\\u002fextra\\u003e\",\"hovertext\":[\"regnetx_002.pycls_in1k\",\"regnetx_004.pycls_in1k\",\"regnetx_006.pycls_in1k\",\"regnetx_008.tv2_in1k\",\"regnetx_008.pycls_in1k\",\"regnetx_016.tv2_in1k\",\"regnetx_016.pycls_in1k\",\"regnetx_032.tv2_in1k\",\"regnetx_032.pycls_in1k\",\"regnetx_040.pycls_in1k\",\"regnetx_064.pycls_in1k\",\"regnetx_160.tv2_in1k\",\"regnetx_160.pycls_in1k\",\"regnetx_080.tv2_in1k\",\"regnetx_080.pycls_in1k\",\"regnetx_120.pycls_in1k\",\"regnetx_320.tv2_in1k\",\"regnetx_320.pycls_in1k\"],\"legendgroup\":\"regnetx\",\"marker\":{\"color\":\"#636efa\",\"size\":[50176,50176,50176,50176,50176,50176,50176,50176,50176,50176,50176,50176,50176,50176,50176,50176,50176,50176],\"sizemode\":\"area\",\"sizeref\":655.36,\"symbol\":\"circle\"},\"mode\":\"markers\",\"name\":\"regnetx\",\"orientation\":\"v\",\"showlegend\":true,\"x\":[0.00004169550605835703,0.00007347430603517949,0.00011933857786603528,0.0001352286987753689,0.0001352286987753689,0.00025957777079801996,0.00025957777079801996,0.00041162088070403636,0.00041162088070403636,0.0005174322939843322,0.0006449449217036865,0.0008367640660039495,0.0008367640660039495,0.0009955102487780112,0.0009955102487780112,0.0015615972016178147,0.003454947484798231,0.003454947484798231],\"xaxis\":\"x\",\"y\":[68.76,72.432,73.884,77.288,75.062,79.452,76.924,80.926,78.166,78.494,79.06,82.576,79.858,81.56,79.216,79.608,82.824,80.262],\"yaxis\":\"y\",\"type\":\"scatter\"},{\"customdata\":[[224],[224],[224],[224],[224]],\"hovertemplate\":\"\\u003cb\\u003e%{hovertext}\\u003c\\u002fb\\u003e\\u003cbr\\u003e\\u003cbr\\u003efamily=levit\\u003cbr\\u003esecs=%{x}\\u003cbr\\u003etop1=%{y}\\u003cbr\\u003esize=%{marker.size}\\u003cbr\\u003einfer_img_size=%{customdata[0]}\\u003cextra\\u003e\\u003c\\u002fextra\\u003e\",\"hovertext\":[\"levit_128s.fb_dist_in1k\",\"levit_128.fb_dist_in1k\",\"levit_192.fb_dist_in1k\",\"levit_256.fb_dist_in1k\",\"levit_384.fb_dist_in1k\"],\"legendgroup\":\"levit\",\"marker\":{\"color\":\"#EF553B\",\"size\":[50176,50176,50176,50176,50176],\"sizemode\":\"area\",\"sizeref\":655.36,\"symbol\":\"circle\"},\"mode\":\"markers\",\"name\":\"levit\",\"orientation\":\"v\",\"showlegend\":true,\"x\":[0.000044100013538704156,0.00006519895134006664,0.00007394185508283706,0.00010143942544709426,0.00017005645874430312],\"xaxis\":\"x\",\"y\":[76.522,78.486,79.85,81.506,82.598],\"yaxis\":\"y\",\"type\":\"scatter\"},{\"customdata\":[[224],[224],[224],[224],[224],[224],[224],[288],[288],[288],[288],[288],[288],[288],[288],[288],[288],[288],[288],[288],[224],[224],[224],[224],[224],[224],[224],[224],[288],[288],[288],[288],[288],[288],[288],[288],[288],[288],[224],[224],[224],[224],[224]],\"hovertemplate\":\"\\u003cb\\u003e%{hovertext}\\u003c\\u002fb\\u003e\\u003cbr\\u003e\\u003cbr\\u003efamily=regnety\\u003cbr\\u003esecs=%{x}\\u003cbr\\u003etop1=%{y}\\u003cbr\\u003esize=%{marker.size}\\u003cbr\\u003einfer_img_size=%{customdata[0]}\\u003cextra\\u003e\\u003c\\u002fextra\\u003e\",\"hovertext\":[\"regnety_002.pycls_in1k\",\"regnety_004.tv2_in1k\",\"regnety_004.pycls_in1k\",\"regnety_006.pycls_in1k\",\"regnety_008.pycls_in1k\",\"regnety_016.tv2_in1k\",\"regnety_016.pycls_in1k\",\"regnety_040.ra3_in1k\",\"regnety_040.ra3_in1k\",\"regnety_040.pycls_in1k\",\"regnety_032.ra_in1k\",\"regnety_032.ra_in1k\",\"regnety_032.tv2_in1k\",\"regnety_032.pycls_in1k\",\"regnety_080.ra3_in1k\",\"regnety_080.ra3_in1k\",\"regnety_080.pycls_in1k\",\"regnety_064.ra3_in1k\",\"regnety_064.ra3_in1k\",\"regnety_064.pycls_in1k\",\"regnety_120.sw_in12k_ft_in1k\",\"regnety_120.sw_in12k_ft_in1k\",\"regnety_120.pycls_in1k\",\"regnety_320.swag_ft_in1k\",\"regnety_320.swag_lc_in1k\",\"regnety_320.seer_ft_in1k\",\"regnety_320.tv2_in1k\",\"regnety_320.pycls_in1k\",\"regnety_160.sw_in12k_ft_in1k\",\"regnety_160.swag_ft_in1k\",\"regnety_160.lion_in12k_ft_in1k\",\"regnety_160.lion_in12k_ft_in1k\",\"regnety_160.sw_in12k_ft_in1k\",\"regnety_160.swag_lc_in1k\",\"regnety_160.deit_in1k\",\"regnety_160.deit_in1k\",\"regnety_160.tv2_in1k\",\"regnety_160.pycls_in1k\",\"regnety_640.seer_ft_in1k\",\"regnety_1280.swag_ft_in1k\",\"regnety_1280.swag_lc_in1k\",\"regnety_1280.seer_ft_in1k\",\"regnety_2560.seer_ft_in1k\"],\"legendgroup\":\"regnety\",\"marker\":{\"color\":\"#00cc96\",\"size\":[50176,50176,50176,50176,50176,50176,50176,82944,82944,82944,82944,82944,82944,82944,82944,82944,82944,82944,82944,82944,50176,50176,50176,50176,50176,50176,50176,50176,82944,82944,82944,82944,82944,82944,82944,82944,82944,82944,50176,50176,50176,50176,50176],\"sizemode\":\"area\",\"sizeref\":655.36,\"symbol\":\"circle\"},\"mode\":\"markers\",\"name\":\"regnety\",\"orientation\":\"v\",\"showlegend\":true,\"x\":[0.00004606305940706709,0.00008390416131078437,0.00008390416131078437,0.00010991873707767849,0.00014412420047099788,0.0002831353273610655,0.0002831353273610655,0.000596292254759903,0.000596292254759903,0.000596292254759903,0.0006812685219879415,0.0006812685219879415,0.0006812685219879415,0.0006812685219879415,0.0012326200571935707,0.0012326200571935707,0.0012326200571935707,0.001520426935883596,0.001520426935883596,0.001520426935883596,0.0015980823012385138,0.0015980823012385138,0.0015980823012385138,0.0016520460590441263,0.0016520460590441263,0.0016520460590441263,0.0016520460590441263,0.0016520460590441263,0.002828854314002829,0.002828854314002829,0.002828854314002829,0.002828854314002829,0.002828854314002829,0.002828854314002829,0.002828854314002829,0.002828854314002829,0.002828854314002829,0.002828854314002829,0.005720496539099593,0.012122681537156019,0.012122681537156019,0.012122681537156019,0.020968756552736424],\"xaxis\":\"x\",\"y\":[70.294,75.588,74.006,75.262,76.334,80.696,77.908,83.058,82.316,79.236,82.724,81.942,81.798,78.896,83.94,83.162,79.882,83.712,83.006,79.728,85.442,84.986,80.382,86.86,84.632,83.326,83.174,80.796,86.032,86.018,86.01,85.602,85.594,83.808,83.7,82.994,82.646,80.284,83.916,88.224,85.966,84.426,85.146],\"yaxis\":\"y\",\"type\":\"scatter\"},{\"customdata\":[[224],[224],[224],[224],[224],[224],[224],[224],[224],[384],[384],[224],[224],[224],[256],[224],[224],[224],[224],[224],[224],[384],[384],[384],[384],[384],[256],[224],[224],[224],[224],[224],[224],[224],[224],[224],[224],[224],[448],[224],[224],[224],[384],[384],[384],[384],[384],[224],[384],[384],[384],[384],[384],[384],[384],[384],[224],[224],[224],[224],[384],[224],[224],[224],[224],[336],[336],[336],[384],[336]],\"hovertemplate\":\"\\u003cb\\u003e%{hovertext}\\u003c\\u002fb\\u003e\\u003cbr\\u003e\\u003cbr\\u003efamily=vit\\u003cbr\\u003esecs=%{x}\\u003cbr\\u003etop1=%{y}\\u003cbr\\u003esize=%{marker.size}\\u003cbr\\u003einfer_img_size=%{customdata[0]}\\u003cextra\\u003e\\u003c\\u002fextra\\u003e\",\"hovertext\":[\"vit_tiny_r_s16_p8_224.augreg_in21k_ft_in1k\",\"vit_small_patch32_224.augreg_in21k_ft_in1k\",\"vit_tiny_patch16_224.augreg_in21k_ft_in1k\",\"vit_base_patch32_clip_224.laion2b_ft_in12k_in1k\",\"vit_base_patch32_clip_224.laion2b_ft_in1k\",\"vit_base_patch32_clip_224.openai_ft_in1k\",\"vit_base_patch32_224.augreg_in21k_ft_in1k\",\"vit_base_patch32_224.augreg_in1k\",\"vit_base_patch32_224.sam_in1k\",\"vit_small_patch32_384.augreg_in21k_ft_in1k\",\"vit_tiny_r_s16_p8_384.augreg_in21k_ft_in1k\",\"vit_small_patch16_224.augreg_in21k_ft_in1k\",\"vit_small_patch16_224.augreg_in1k\",\"vit_small_r26_s32_224.augreg_in21k_ft_in1k\",\"vit_relpos_base_patch32_plus_rpn_256.sw_in1k\",\"vit_relpos_small_patch16_224.sw_in1k\",\"vit_srelpos_small_patch16_224.sw_in1k\",\"vit_relpos_medium_patch16_rpn_224.sw_in1k\",\"vit_relpos_medium_patch16_224.sw_in1k\",\"vit_srelpos_medium_patch16_224.sw_in1k\",\"vit_relpos_medium_patch16_cls_224.sw_in1k\",\"vit_tiny_patch16_384.augreg_in21k_ft_in1k\",\"vit_base_patch32_384.augreg_in21k_ft_in1k\",\"vit_base_patch32_384.augreg_in1k\",\"vit_base_patch32_clip_384.laion2b_ft_in12k_in1k\",\"vit_base_patch32_clip_384.openai_ft_in12k_in1k\",\"vit_medium_patch16_gap_256.sw_in12k_ft_in1k\",\"vit_base_patch16_clip_224.laion2b_ft_in12k_in1k\",\"vit_base_patch16_clip_224.openai_ft_in12k_in1k\",\"vit_base_patch16_clip_224.laion2b_ft_in1k\",\"vit_base_patch16_clip_224.openai_ft_in1k\",\"vit_base_patch16_224_miil.in21k_ft_in1k\",\"vit_base_patch16_224.augreg2_in21k_ft_in1k\",\"vit_base_patch16_224.augreg_in21k_ft_in1k\",\"vit_base_patch16_224.orig_in21k_ft_in1k\",\"vit_base_patch16_224.sam_in1k\",\"vit_base_patch16_224.augreg_in1k\",\"vit_base_patch16_rpn_224.sw_in1k\",\"vit_base_patch32_clip_448.laion2b_ft_in12k_in1k\",\"vit_relpos_base_patch16_224.sw_in1k\",\"vit_relpos_base_patch16_clsgap_224.sw_in1k\",\"vit_large_r50_s32_224.augreg_in21k_ft_in1k\",\"vit_small_r26_s32_384.augreg_in21k_ft_in1k\",\"vit_small_patch16_384.augreg_in21k_ft_in1k\",\"vit_small_patch16_384.augreg_in1k\",\"vit_large_patch32_384.orig_in21k_ft_in1k\",\"vit_medium_patch16_gap_384.sw_in12k_ft_in1k\",\"vit_large_patch16_224.augreg_in21k_ft_in1k\",\"vit_large_r50_s32_384.augreg_in21k_ft_in1k\",\"vit_base_patch16_384.augreg_in21k_ft_in1k\",\"vit_base_patch16_384.orig_in21k_ft_in1k\",\"vit_base_patch16_384.augreg_in1k\",\"vit_base_patch16_clip_384.laion2b_ft_in12k_in1k\",\"vit_base_patch16_clip_384.openai_ft_in12k_in1k\",\"vit_base_patch16_clip_384.laion2b_ft_in1k\",\"vit_base_patch16_clip_384.openai_ft_in1k\",\"vit_large_patch14_clip_224.openai_ft_in12k_in1k\",\"vit_large_patch14_clip_224.laion2b_ft_in12k_in1k\",\"vit_large_patch14_clip_224.openai_ft_in1k\",\"vit_large_patch14_clip_224.laion2b_ft_in1k\",\"vit_base_r50_s16_384.orig_in21k_ft_in1k\",\"vit_base_patch8_224.augreg2_in21k_ft_in1k\",\"vit_base_patch8_224.augreg_in21k_ft_in1k\",\"vit_huge_patch14_clip_224.laion2b_ft_in12k_in1k\",\"vit_huge_patch14_clip_224.laion2b_ft_in1k\",\"vit_large_patch14_clip_336.openai_ft_in12k_in1k\",\"vit_large_patch14_clip_336.laion2b_ft_in12k_in1k\",\"vit_large_patch14_clip_336.laion2b_ft_in1k\",\"vit_large_patch16_384.augreg_in21k_ft_in1k\",\"vit_huge_patch14_clip_336.laion2b_ft_in12k_in1k\"],\"legendgroup\":\"vit\",\"marker\":{\"color\":\"#ab63fa\",\"size\":[50176,50176,50176,50176,50176,50176,50176,50176,50176,147456,147456,50176,50176,50176,65536,50176,50176,50176,50176,50176,50176,147456,147456,147456,147456,147456,65536,50176,50176,50176,50176,50176,50176,50176,50176,50176,50176,50176,200704,50176,50176,50176,147456,147456,147456,147456,147456,50176,147456,147456,147456,147456,147456,147456,147456,147456,50176,50176,50176,50176,147456,50176,50176,50176,50176,112896,112896,112896,147456,112896],\"sizemode\":\"area\",\"sizeref\":655.36,\"symbol\":\"circle\"},\"mode\":\"markers\",\"name\":\"vit\",\"orientation\":\"v\",\"showlegend\":true,\"x\":[0.00007079450549683939,0.00007246655125160604,0.00013468140440381257,0.0001893695508911731,0.0001893695508911731,0.0001893695508911731,0.0001893752887973154,0.0001893752887973154,0.0001893752887973154,0.000235899129532212,0.0002523309067511134,0.00031071532883003247,0.00031071532883003247,0.00032659246485865077,0.0003304201291942705,0.0003324180755652769,0.00033322670078908084,0.0004890334254346284,0.0004908047725856086,0.0004918476256055874,0.000498196528566589,0.0006003265776582461,0.0006063288606474379,0.0006063288606474379,0.0006065605590062111,0.0006065605590062111,0.0006392962626740484,0.0008252050634582694,0.0008252050634582694,0.0008252050634582694,0.0008252050634582694,0.0008255865792645675,0.000826255081468751,0.000826255081468751,0.000826255081468751,0.000826255081468751,0.000826255081468751,0.0008471776277332067,0.0008663934639277081,0.0008761861369829407,0.0008857866671390862,0.0009702426576886879,0.0010176252696706964,0.0013265766363322808,0.0013265766363322808,0.0018400956849756187,0.001854461835175432,0.002559770644550248,0.0030321406913280777,0.0032563743527955977,0.0032563743527955977,0.0032563743527955977,0.0032648796891834534,0.0032648796891834534,0.0032648796891834534,0.0032648796891834534,0.0034966257561453197,0.0034966257561453197,0.0034966257561453197,0.0034966257561453197,0.0044185224460940265,0.005008263634997747,0.005008263634997747,0.006486346241162354,0.006486346241162354,0.009754194303550527,0.009754194303550527,0.009754194303550527,0.00975609756097561,0.017421602787456445],\"xaxis\":\"x\",\"y\":[71.82,75.996,75.452,83.306,82.63,81.946,80.736,74.906,73.706,80.482,75.962,81.414,78.842,81.844,79.496,81.476,81.108,82.308,82.466,82.25,82.572,78.446,83.352,78.754,85.41,85.226,84.45,86.21,85.962,85.494,85.286,84.272,85.11,84.532,81.786,80.242,79.142,82.216,85.8,82.476,82.762,84.432,84.074,83.804,81.134,81.506,85.554,85.85,86.184,86.006,84.208,81.096,87.212,87.028,86.638,86.218,88.162,87.898,87.86,87.298,84.994,86.228,85.836,88.278,87.624,88.264,88.192,87.866,87.094,88.628],\"yaxis\":\"y\",\"type\":\"scatter\"},{\"customdata\":[[224],[224],[224],[224],[224],[224],[224],[224],[224],[224],[224],[224],[224],[224],[224],[224],[224],[224],[224],[224],[224],[224],[224],[224],[224],[224],[256],[256],[224],[224],[224],[224],[224],[224],[224],[224],[224],[224],[224],[224],[224],[224],[224],[224],[224],[224],[224],[224],[224],[224],[224],[224],[224],[224],[224],[224],[224],[224],[224],[256],[256],[256],[256],[224],[224],[224],[224],[224],[224],[224],[224],[224],[224],[224],[224],[288],[288],[288],[288],[224],[224],[224],[224],[224],[224],[224],[224],[224],[224],[224],[224]],\"hovertemplate\":\"\\u003cb\\u003e%{hovertext}\\u003c\\u002fb\\u003e\\u003cbr\\u003e\\u003cbr\\u003efamily=resnet\\u003cbr\\u003esecs=%{x}\\u003cbr\\u003etop1=%{y}\\u003cbr\\u003esize=%{marker.size}\\u003cbr\\u003einfer_img_size=%{customdata[0]}\\u003cextra\\u003e\\u003c\\u002fextra\\u003e\",\"hovertext\":[\"resnet10t.c3_in1k\",\"resnet10t.c3_in1k\",\"resnet18.fb_swsl_ig1b_ft_in1k\",\"resnet18.a1_in1k\",\"resnet18.fb_ssl_yfcc100m_ft_in1k\",\"resnet18.a2_in1k\",\"resnet18.a1_in1k\",\"resnet18.gluon_in1k\",\"resnet18.a2_in1k\",\"resnet18.tv_in1k\",\"resnet18.a3_in1k\",\"resnet18.a3_in1k\",\"resnet14t.c3_in1k\",\"resnet14t.c3_in1k\",\"resnet34.a1_in1k\",\"resnet34.a2_in1k\",\"resnet34.bt_in1k\",\"resnet34.a1_in1k\",\"resnet34.a2_in1k\",\"resnet34.bt_in1k\",\"resnet34.gluon_in1k\",\"resnet34.tv_in1k\",\"resnet34.a3_in1k\",\"resnet34.a3_in1k\",\"resnet26.bt_in1k\",\"resnet26.bt_in1k\",\"resnet26t.ra2_in1k\",\"resnet26t.ra2_in1k\",\"resnet50.a1_in1k\",\"resnet50.fb_swsl_ig1b_ft_in1k\",\"resnet50.d_in1k\",\"resnet50.c1_in1k\",\"resnet50.c2_in1k\",\"resnet50.tv2_in1k\",\"resnet50.a2_in1k\",\"resnet50.b1k_in1k\",\"resnet50.a1h_in1k\",\"resnet50.b2k_in1k\",\"resnet50.a1_in1k\",\"resnet50.ram_in1k\",\"resnet50.d_in1k\",\"resnet50.c2_in1k\",\"resnet50.ra_in1k\",\"resnet50.a2_in1k\",\"resnet50.c1_in1k\",\"resnet50.bt_in1k\",\"resnet50.b1k_in1k\",\"resnet50.tv2_in1k\",\"resnet50.b2k_in1k\",\"resnet50.a1h_in1k\",\"resnet50.fb_ssl_yfcc100m_ft_in1k\",\"resnet50.ram_in1k\",\"resnet50.am_in1k\",\"resnet50.ra_in1k\",\"resnet50.bt_in1k\",\"resnet50.a3_in1k\",\"resnet50.gluon_in1k\",\"resnet50.tv_in1k\",\"resnet50.a3_in1k\",\"resnet32ts.ra2_in1k\",\"resnet32ts.ra2_in1k\",\"resnet33ts.ra2_in1k\",\"resnet33ts.ra2_in1k\",\"resnet101.a1h_in1k\",\"resnet101.a1_in1k\",\"resnet101.a2_in1k\",\"resnet101.a1h_in1k\",\"resnet101.tv2_in1k\",\"resnet101.a1_in1k\",\"resnet101.a2_in1k\",\"resnet101.tv2_in1k\",\"resnet101.a3_in1k\",\"resnet101.gluon_in1k\",\"resnet101.a3_in1k\",\"resnet101.tv_in1k\",\"resnet51q.ra2_in1k\",\"resnet51q.ra2_in1k\",\"resnet61q.ra2_in1k\",\"resnet61q.ra2_in1k\",\"resnet152.a1h_in1k\",\"resnet152.a1h_in1k\",\"resnet152.a1_in1k\",\"resnet152.a2_in1k\",\"resnet152.tv2_in1k\",\"resnet152.a1_in1k\",\"resnet152.a2_in1k\",\"resnet152.a3_in1k\",\"resnet152.tv2_in1k\",\"resnet152.gluon_in1k\",\"resnet152.a3_in1k\",\"resnet152.tv_in1k\"],\"legendgroup\":\"resnet\",\"marker\":{\"color\":\"#FFA15A\",\"size\":[50176,50176,50176,50176,50176,50176,50176,50176,50176,50176,50176,50176,50176,50176,50176,50176,50176,50176,50176,50176,50176,50176,50176,50176,50176,50176,65536,65536,50176,50176,50176,50176,50176,50176,50176,50176,50176,50176,50176,50176,50176,50176,50176,50176,50176,50176,50176,50176,50176,50176,50176,50176,50176,50176,50176,50176,50176,50176,50176,65536,65536,65536,65536,50176,50176,50176,50176,50176,50176,50176,50176,50176,50176,50176,50176,82944,82944,82944,82944,50176,50176,50176,50176,50176,50176,50176,50176,50176,50176,50176,50176],\"sizemode\":\"area\",\"sizeref\":655.36,\"symbol\":\"circle\"},\"mode\":\"markers\",\"name\":\"resnet\",\"orientation\":\"v\",\"showlegend\":true,\"x\":[0.00007086132650986,0.00007086132650986,0.00009022746343532044,0.00009022746343532044,0.00009022746343532044,0.00009022746343532044,0.00009022746343532044,0.00009022746343532044,0.00009022746343532044,0.00009022746343532044,0.00009022746343532044,0.00009022746343532044,0.00013459529885540158,0.00013459529885540158,0.00015393093426841246,0.00015393093426841246,0.00015393093426841246,0.00015393093426841246,0.00015393093426841246,0.00015393093426841246,0.00015393093426841246,0.00015393093426841246,0.00015393093426841246,0.00015393093426841246,0.00016962924136714383,0.00016962924136714383,0.00025384189711280227,0.00025384189711280227,0.00027258503290101345,0.00027258503290101345,0.00027258503290101345,0.00027258503290101345,0.00027258503290101345,0.00027258503290101345,0.00027258503290101345,0.00027258503290101345,0.00027258503290101345,0.00027258503290101345,0.00027258503290101345,0.00027258503290101345,0.00027258503290101345,0.00027258503290101345,0.00027258503290101345,0.00027258503290101345,0.00027258503290101345,0.00027258503290101345,0.00027258503290101345,0.00027258503290101345,0.00027258503290101345,0.00027258503290101345,0.00027258503290101345,0.00027258503290101345,0.00027258503290101345,0.00027258503290101345,0.00027258503290101345,0.00027258503290101345,0.00027258503290101345,0.00027258503290101345,0.00027258503290101345,0.0002863180076847753,0.0002863180076847753,0.0002889522015268234,0.0002889522015268234,0.0004428148856651965,0.0004428148856651965,0.0004428148856651965,0.0004428148856651965,0.0004428148856651965,0.0004428148856651965,0.0004428148856651965,0.0004428148856651965,0.0004428148856651965,0.0004428148856651965,0.0004428148856651965,0.0004428148856651965,0.0004915430026395859,0.0004915430026395859,0.0005429353255440212,0.0005429353255440212,0.000632503067639878,0.000632503067639878,0.000632503067639878,0.000632503067639878,0.000632503067639878,0.000632503067639878,0.000632503067639878,0.000632503067639878,0.000632503067639878,0.000632503067639878,0.000632503067639878,0.000632503067639878],\"xaxis\":\"x\",\"y\":[68.346,66.724,73.288,73.164,72.636,72.362,71.488,70.844,70.634,69.752,68.246,65.664,72.242,71.318,77.938,77.148,76.508,76.414,75.516,75.162,74.574,73.298,72.982,70.572,76.378,75.292,78.33,77.884,81.24,81.146,81.012,80.928,80.856,80.844,80.78,80.706,80.652,80.47,80.382,79.974,79.904,79.868,79.86,79.828,79.766,79.652,79.564,79.432,79.38,79.26,79.252,79.032,79.004,78.814,78.432,78.052,77.58,76.156,75.994,79.388,79.054,79.708,79.216,82.802,82.322,82.224,81.95,81.906,81.494,81.344,79.906,79.82,79.306,77.928,77.404,82.356,81.778,82.524,81.966,83.494,82.818,82.744,82.62,82.294,81.998,81.764,80.548,80.212,79.712,78.896,78.33],\"yaxis\":\"y\",\"type\":\"scatter\"},{\"customdata\":[[224],[224],[224],[224],[240],[224],[224],[256],[256],[256],[256],[260],[240],[300],[288],[288],[320],[320],[300],[300],[384],[384],[448]],\"hovertemplate\":\"\\u003cb\\u003e%{hovertext}\\u003c\\u002fb\\u003e\\u003cbr\\u003e\\u003cbr\\u003efamily=efficientnet\\u003cbr\\u003esecs=%{x}\\u003cbr\\u003etop1=%{y}\\u003cbr\\u003esize=%{marker.size}\\u003cbr\\u003einfer_img_size=%{customdata[0]}\\u003cextra\\u003e\\u003c\\u002fextra\\u003e\",\"hovertext\":[\"efficientnet_lite0.ra_in1k\",\"efficientnet_b0.ra4_e3600_r224_in1k\",\"efficientnet_b0.ra4_e3600_r224_in1k\",\"efficientnet_b0.ra_in1k\",\"efficientnet_b1_pruned.in1k\",\"efficientnet_es_pruned.in1k\",\"efficientnet_es.ra_in1k\",\"efficientnet_b1.ra4_e3600_r240_in1k\",\"efficientnet_b1.ra4_e3600_r240_in1k\",\"efficientnet_b1.ft_in1k\",\"efficientnet_b1.ft_in1k\",\"efficientnet_b2_pruned.in1k\",\"efficientnet_em.ra2_in1k\",\"efficientnet_b3_pruned.in1k\",\"efficientnet_b2.ra_in1k\",\"efficientnet_b2.ra_in1k\",\"efficientnet_b3.ra2_in1k\",\"efficientnet_b3.ra2_in1k\",\"efficientnet_el_pruned.in1k\",\"efficientnet_el.ra_in1k\",\"efficientnet_b4.ra2_in1k\",\"efficientnet_b4.ra2_in1k\",\"efficientnet_b5.sw_in12k_ft_in1k\"],\"legendgroup\":\"efficientnet\",\"marker\":{\"color\":\"#19d3f3\",\"size\":[50176,50176,50176,50176,57600,50176,50176,65536,65536,65536,65536,67600,57600,90000,82944,82944,102400,102400,90000,90000,147456,147456,200704],\"sizemode\":\"area\",\"sizeref\":655.36,\"symbol\":\"circle\"},\"mode\":\"markers\",\"name\":\"efficientnet\",\"orientation\":\"v\",\"showlegend\":true,\"x\":[0.00010682459614961426,0.00012554659850323344,0.00012554659850323344,0.00012554659850323344,0.00015054867464474276,0.00016352160120351898,0.00016352908855427203,0.00023588021059385203,0.00023588021059385203,0.00023588021059385203,0.00023588021059385203,0.0002480823236382761,0.0002723867892407218,0.0002976101901729115,0.0003101833183411396,0.0003101833183411396,0.0005129415144085271,0.0005129415144085271,0.0006430289234409764,0.0006451737775569849,0.0009861154938466392,0.0009861154938466392,0.001875433694041747],\"xaxis\":\"x\",\"y\":[75.49,79.37,78.572,77.696,78.252,75.0,78.092,81.434,80.404,78.798,77.594,79.908,79.264,80.872,80.61,79.34,82.298,81.474,80.294,81.306,83.474,82.654,85.892],\"yaxis\":\"y\",\"type\":\"scatter\"},{\"customdata\":[[224],[224],[224],[224],[224],[224],[224],[224],[224],[224],[224],[224],[224],[224],[224],[224],[224],[320],[320],[320],[320],[320],[320],[320],[320]],\"hovertemplate\":\"\\u003cb\\u003e%{hovertext}\\u003c\\u002fb\\u003e\\u003cbr\\u003e\\u003cbr\\u003efamily=resnetd\\u003cbr\\u003esecs=%{x}\\u003cbr\\u003etop1=%{y}\\u003cbr\\u003esize=%{marker.size}\\u003cbr\\u003einfer_img_size=%{customdata[0]}\\u003cextra\\u003e\\u003c\\u002fextra\\u003e\",\"hovertext\":[\"resnet18d.ra2_in1k\",\"resnet18d.ra2_in1k\",\"resnet34d.ra2_in1k\",\"resnet34d.ra2_in1k\",\"resnet26d.bt_in1k\",\"resnet26d.bt_in1k\",\"resnet50d.ra4_e3600_r224_in1k\",\"resnet50d.a1_in1k\",\"resnet50d.ra2_in1k\",\"resnet50d.a2_in1k\",\"resnet50d.ra4_e3600_r224_in1k\",\"resnet50d.a1_in1k\",\"resnet50d.ra2_in1k\",\"resnet50d.a2_in1k\",\"resnet50d.gluon_in1k\",\"resnet50d.a3_in1k\",\"resnet50d.a3_in1k\",\"resnet101d.ra2_in1k\",\"resnet101d.ra2_in1k\",\"resnet101d.gluon_in1k\",\"resnet152d.ra2_in1k\",\"resnet152d.ra2_in1k\",\"resnet152d.gluon_in1k\",\"resnet200d.ra2_in1k\",\"resnet200d.ra2_in1k\"],\"legendgroup\":\"resnetd\",\"marker\":{\"color\":\"#FF6692\",\"size\":[50176,50176,50176,50176,50176,50176,50176,50176,50176,50176,50176,50176,50176,50176,50176,50176,50176,102400,102400,102400,102400,102400,102400,102400,102400],\"sizemode\":\"area\",\"sizeref\":655.36,\"symbol\":\"circle\"},\"mode\":\"markers\",\"name\":\"resnetd\",\"orientation\":\"v\",\"showlegend\":true,\"x\":[0.00010712567877508214,0.00010712567877508214,0.00017047449871973654,0.00017047449871973654,0.0001957613747146778,0.0001957613747146778,0.0002983765332824104,0.0002983765332824104,0.0002983765332824104,0.0002983765332824104,0.0002983765332824104,0.0002983765332824104,0.0002983765332824104,0.0002983765332824104,0.0002983765332824104,0.0002983765332824104,0.0002983765332824104,0.0009616494210870484,0.0009616494210870484,0.0009616494210870484,0.0013470371916968627,0.0013470371916968627,0.0013470371916968627,0.0018343911655721466,0.0018343911655721466],\"xaxis\":\"x\",\"y\":[73.794,72.268,78.44,77.104,77.424,76.698,81.83,81.444,81.35,81.168,80.956,80.73,80.548,80.268,79.08,78.742,77.222,83.018,82.252,80.466,83.684,83.156,80.476,83.976,83.24],\"yaxis\":\"y\",\"type\":\"scatter\"},{\"customdata\":[[256],[256],[256],[256],[256],[256],[256],[256],[256],[256],[256],[256],[256]],\"hovertemplate\":\"\\u003cb\\u003e%{hovertext}\\u003c\\u002fb\\u003e\\u003cbr\\u003e\\u003cbr\\u003efamily=mobilevitv2\\u003cbr\\u003esecs=%{x}\\u003cbr\\u003etop1=%{y}\\u003cbr\\u003esize=%{marker.size}\\u003cbr\\u003einfer_img_size=%{customdata[0]}\\u003cextra\\u003e\\u003c\\u002fextra\\u003e\",\"hovertext\":[\"mobilevitv2_050.cvnets_in1k\",\"mobilevitv2_075.cvnets_in1k\",\"mobilevitv2_100.cvnets_in1k\",\"mobilevitv2_125.cvnets_in1k\",\"mobilevitv2_150.cvnets_in22k_ft_in1k_384\",\"mobilevitv2_150.cvnets_in22k_ft_in1k\",\"mobilevitv2_150.cvnets_in1k\",\"mobilevitv2_175.cvnets_in22k_ft_in1k_384\",\"mobilevitv2_175.cvnets_in22k_ft_in1k\",\"mobilevitv2_175.cvnets_in1k\",\"mobilevitv2_200.cvnets_in22k_ft_in1k_384\",\"mobilevitv2_200.cvnets_in22k_ft_in1k\",\"mobilevitv2_200.cvnets_in1k\"],\"legendgroup\":\"mobilevitv2\",\"marker\":{\"color\":\"#B6E880\",\"size\":[65536,65536,65536,65536,65536,65536,65536,65536,65536,65536,65536,65536,65536],\"sizemode\":\"area\",\"sizeref\":655.36,\"symbol\":\"circle\"},\"mode\":\"markers\",\"name\":\"mobilevitv2\",\"orientation\":\"v\",\"showlegend\":true,\"x\":[0.0001460094876965105,0.00022758980124582657,0.0003007853505502868,0.0004044849288915495,0.00048277460219372777,0.00048277460219372777,0.00048277460219372777,0.0005960683332737265,0.0005960683332737265,0.0005960683332737265,0.0006868037526957047,0.0006868037526957047,0.0006868037526957047],\"xaxis\":\"x\",\"y\":[70.158,75.604,78.092,79.678,82.606,81.47,80.404,82.928,81.944,80.874,83.41,82.322,81.148],\"yaxis\":\"y\",\"type\":\"scatter\"},{\"customdata\":[[256],[256],[256]],\"hovertemplate\":\"\\u003cb\\u003e%{hovertext}\\u003c\\u002fb\\u003e\\u003cbr\\u003e\\u003cbr\\u003efamily=mobilevit\\u003cbr\\u003esecs=%{x}\\u003cbr\\u003etop1=%{y}\\u003cbr\\u003esize=%{marker.size}\\u003cbr\\u003einfer_img_size=%{customdata[0]}\\u003cextra\\u003e\\u003c\\u002fextra\\u003e\",\"hovertext\":[\"mobilevit_xxs.cvnets_in1k\",\"mobilevit_xs.cvnets_in1k\",\"mobilevit_s.cvnets_in1k\"],\"legendgroup\":\"mobilevit\",\"marker\":{\"color\":\"#FF97FF\",\"size\":[65536,65536,65536],\"sizemode\":\"area\",\"sizeref\":655.36,\"symbol\":\"circle\"},\"mode\":\"markers\",\"name\":\"mobilevit\",\"orientation\":\"v\",\"showlegend\":true,\"x\":[0.00018099973393039112,0.00030747660103066154,0.00038668414479001113],\"xaxis\":\"x\",\"y\":[68.928,74.632,78.302],\"yaxis\":\"y\",\"type\":\"scatter\"},{\"customdata\":[[288],[288],[288],[288],[288],[288],[288],[288],[288],[288],[288],[288],[288],[288],[288],[288],[288],[288],[288],[288],[288],[288],[288],[288],[288],[288],[288],[288],[288],[288],[288],[288],[288],[288],[288],[288],[288],[288],[288],[288],[288],[288],[288],[288],[288],[288],[288],[288],[288],[288],[288],[288],[288],[224]],\"hovertemplate\":\"\\u003cb\\u003e%{hovertext}\\u003c\\u002fb\\u003e\\u003cbr\\u003e\\u003cbr\\u003efamily=convnext\\u003cbr\\u003esecs=%{x}\\u003cbr\\u003etop1=%{y}\\u003cbr\\u003esize=%{marker.size}\\u003cbr\\u003einfer_img_size=%{customdata[0]}\\u003cextra\\u003e\\u003c\\u002fextra\\u003e\",\"hovertext\":[\"convnext_atto.d2_in1k\",\"convnext_atto.d2_in1k\",\"convnext_atto_ols.a2_in1k\",\"convnext_atto_ols.a2_in1k\",\"convnext_femto.d1_in1k\",\"convnext_femto.d1_in1k\",\"convnext_femto_ols.d1_in1k\",\"convnext_femto_ols.d1_in1k\",\"convnext_pico.d1_in1k\",\"convnext_pico.d1_in1k\",\"convnext_pico_ols.d1_in1k\",\"convnext_pico_ols.d1_in1k\",\"convnext_nano.in12k_ft_in1k\",\"convnext_nano.in12k_ft_in1k\",\"convnext_nano.d1h_in1k\",\"convnext_nano.d1h_in1k\",\"convnext_nano_ols.d1h_in1k\",\"convnext_nano_ols.d1h_in1k\",\"convnext_tiny_hnf.a2h_in1k\",\"convnext_tiny_hnf.a2h_in1k\",\"convnext_tiny.in12k_ft_in1k_384\",\"convnext_tiny.in12k_ft_in1k\",\"convnext_tiny.in12k_ft_in1k\",\"convnext_tiny.fb_in22k_ft_in1k_384\",\"convnext_tiny.fb_in22k_ft_in1k\",\"convnext_tiny.fb_in1k\",\"convnext_tiny.fb_in1k\",\"convnext_tiny.fb_in22k_ft_in1k\",\"convnext_small.in12k_ft_in1k_384\",\"convnext_small.fb_in22k_ft_in1k_384\",\"convnext_small.in12k_ft_in1k\",\"convnext_small.fb_in22k_ft_in1k\",\"convnext_small.in12k_ft_in1k\",\"convnext_small.fb_in22k_ft_in1k\",\"convnext_small.fb_in1k\",\"convnext_small.fb_in1k\",\"convnext_base.clip_laion2b_augreg_ft_in12k_in1k_384\",\"convnext_base.fb_in22k_ft_in1k_384\",\"convnext_base.clip_laiona_augreg_ft_in1k_384\",\"convnext_base.clip_laion2b_augreg_ft_in12k_in1k\",\"convnext_base.fb_in22k_ft_in1k\",\"convnext_base.clip_laion2b_augreg_ft_in1k\",\"convnext_base.fb_in22k_ft_in1k\",\"convnext_base.fb_in1k\",\"convnext_base.fb_in1k\",\"convnext_large.fb_in22k_ft_in1k_384\",\"convnext_large.fb_in22k_ft_in1k\",\"convnext_large.fb_in22k_ft_in1k\",\"convnext_large.fb_in1k\",\"convnext_large.fb_in1k\",\"convnext_xlarge.fb_in22k_ft_in1k_384\",\"convnext_xlarge.fb_in22k_ft_in1k\",\"convnext_xlarge.fb_in22k_ft_in1k\",\"convnext_xxlarge.clip_laion2b_soup_ft_in1k\"],\"legendgroup\":\"convnext\",\"marker\":{\"color\":\"#FECB52\",\"size\":[82944,82944,82944,82944,82944,82944,82944,82944,82944,82944,82944,82944,82944,82944,82944,82944,82944,82944,82944,82944,82944,82944,82944,82944,82944,82944,82944,82944,82944,82944,82944,82944,82944,82944,82944,82944,82944,82944,82944,82944,82944,82944,82944,82944,82944,82944,82944,82944,82944,82944,82944,82944,82944,50176],\"sizemode\":\"area\",\"sizeref\":655.36,\"symbol\":\"circle\"},\"mode\":\"markers\",\"name\":\"convnext\",\"orientation\":\"v\",\"showlegend\":true,\"x\":[0.00018313207118709872,0.00018313207118709872,0.00018907380306828968,0.00018907380306828968,0.00021056532578667207,0.00021056532578667207,0.00021652848540489744,0.00021652848540489744,0.0002668452751041364,0.0002668452751041364,0.0002738720579294177,0.0002738720579294177,0.0003828806407890404,0.0003828806407890404,0.0003828806407890404,0.0003828806407890404,0.0004106776180698152,0.0004106776180698152,0.0005966017563955708,0.0005966017563955708,0.0006089614770969588,0.0006089614770969588,0.0006089614770969588,0.0006089614770969588,0.0006089614770969588,0.0006089614770969588,0.0006089614770969588,0.0006089614770969588,0.0010118385105737126,0.0010118385105737126,0.0010118385105737126,0.0010118385105737126,0.0010118385105737126,0.0010118385105737126,0.0010118385105737126,0.0010118385105737126,0.0014553075064761185,0.0014553075064761185,0.0014553075064761185,0.0014553075064761185,0.0014553075064761185,0.0014553075064761185,0.0014553075064761185,0.0014553075064761185,0.0014553075064761185,0.002680821403678087,0.002680821403678087,0.002680821403678087,0.002680821403678087,0.002680821403678087,0.004121501875283353,0.004121501875283353,0.004121501875283353,0.005444250871080139],\"xaxis\":\"x\",\"y\":[77.014,75.668,77.22,75.902,78.71,77.508,78.914,77.844,80.43,79.516,80.458,79.542,82.882,82.306,81.474,80.762,81.612,80.906,82.608,82.23,85.154,84.448,84.192,84.098,82.888,82.694,82.066,78.95,86.186,85.754,85.324,85.276,85.164,84.582,83.704,83.144,87.15,86.826,86.488,86.386,86.298,86.184,85.816,84.466,83.834,87.456,87.014,86.612,84.862,84.298,87.766,87.374,86.97,88.622],\"yaxis\":\"y\",\"type\":\"scatter\"},{\"customdata\":[[224],[224],[224],[224],[224],[224],[224],[224]],\"hovertemplate\":\"\\u003cb\\u003e%{hovertext}\\u003c\\u002fb\\u003e\\u003cbr\\u003e\\u003cbr\\u003efamily=repvgg\\u003cbr\\u003esecs=%{x}\\u003cbr\\u003etop1=%{y}\\u003cbr\\u003esize=%{marker.size}\\u003cbr\\u003einfer_img_size=%{customdata[0]}\\u003cextra\\u003e\\u003c\\u002fextra\\u003e\",\"hovertext\":[\"repvgg_b0.rvgg_in1k\",\"repvgg_a2.rvgg_in1k\",\"repvgg_b1g4.rvgg_in1k\",\"repvgg_b1.rvgg_in1k\",\"repvgg_b2.rvgg_in1k\",\"repvgg_b3.rvgg_in1k\",\"repvgg_b2g4.rvgg_in1k\",\"repvgg_b3g4.rvgg_in1k\"],\"legendgroup\":\"repvgg\",\"marker\":{\"color\":\"#636efa\",\"size\":[50176,50176,50176,50176,50176,50176,50176,50176],\"sizemode\":\"area\",\"sizeref\":655.36,\"symbol\":\"circle\"},\"mode\":\"markers\",\"name\":\"repvgg\",\"orientation\":\"v\",\"showlegend\":true,\"x\":[0.00019037973141227492,0.0002507623174450329,0.00040431157867499006,0.0005036717671827623,0.0007661543647814161,0.001005803486114883,0.0010111530177861815,0.001245562682942019],\"xaxis\":\"x\",\"y\":[75.162,76.492,77.602,78.372,78.794,80.518,79.396,80.248],\"yaxis\":\"y\",\"type\":\"scatter\"},{\"customdata\":[[224],[224],[224]],\"hovertemplate\":\"\\u003cb\\u003e%{hovertext}\\u003c\\u002fb\\u003e\\u003cbr\\u003e\\u003cbr\\u003efamily=efficientformer\\u003cbr\\u003esecs=%{x}\\u003cbr\\u003etop1=%{y}\\u003cbr\\u003esize=%{marker.size}\\u003cbr\\u003einfer_img_size=%{customdata[0]}\\u003cextra\\u003e\\u003c\\u002fextra\\u003e\",\"hovertext\":[\"efficientformer_l1.snap_dist_in1k\",\"efficientformer_l3.snap_dist_in1k\",\"efficientformer_l7.snap_dist_in1k\"],\"legendgroup\":\"efficientformer\",\"marker\":{\"color\":\"#EF553B\",\"size\":[50176,50176,50176],\"sizemode\":\"area\",\"sizeref\":655.36,\"symbol\":\"circle\"},\"mode\":\"markers\",\"name\":\"efficientformer\",\"orientation\":\"v\",\"showlegend\":true,\"x\":[0.00021900335951153488,0.0004897663324827725,0.0010389070697626097],\"xaxis\":\"x\",\"y\":[80.502,82.564,83.386],\"yaxis\":\"y\",\"type\":\"scatter\"},{\"customdata\":[[240],[240],[240],[240],[240],[240],[240],[240],[240],[408],[408]],\"hovertemplate\":\"\\u003cb\\u003e%{hovertext}\\u003c\\u002fb\\u003e\\u003cbr\\u003e\\u003cbr\\u003efamily=crossvit\\u003cbr\\u003esecs=%{x}\\u003cbr\\u003etop1=%{y}\\u003cbr\\u003esize=%{marker.size}\\u003cbr\\u003einfer_img_size=%{customdata[0]}\\u003cextra\\u003e\\u003c\\u002fextra\\u003e\",\"hovertext\":[\"crossvit_tiny_240.in1k\",\"crossvit_9_240.in1k\",\"crossvit_9_dagger_240.in1k\",\"crossvit_small_240.in1k\",\"crossvit_15_240.in1k\",\"crossvit_15_dagger_240.in1k\",\"crossvit_18_240.in1k\",\"crossvit_18_dagger_240.in1k\",\"crossvit_base_240.in1k\",\"crossvit_15_dagger_408.in1k\",\"crossvit_18_dagger_408.in1k\"],\"legendgroup\":\"crossvit\",\"marker\":{\"color\":\"#00cc96\",\"size\":[57600,57600,57600,57600,57600,57600,57600,57600,57600,166464,166464],\"sizemode\":\"area\",\"sizeref\":655.36,\"symbol\":\"circle\"},\"mode\":\"markers\",\"name\":\"crossvit\",\"orientation\":\"v\",\"showlegend\":true,\"x\":[0.00022313011386329711,0.0002373960502045167,0.0002441984552005724,0.00048042277203939464,0.000528412753770225,0.0005403390086940546,0.0007413722800904475,0.0007611624472895006,0.0011912845621433593,0.0025593775593775593,0.00350655726208009],\"xaxis\":\"x\",\"y\":[73.33,73.976,76.986,81.04,81.518,82.306,82.386,82.504,82.228,83.84,84.202],\"yaxis\":\"y\",\"type\":\"scatter\"},{\"customdata\":[[224],[224],[224],[224]],\"hovertemplate\":\"\\u003cb\\u003e%{hovertext}\\u003c\\u002fb\\u003e\\u003cbr\\u003e\\u003cbr\\u003efamily=resnetv2\\u003cbr\\u003esecs=%{x}\\u003cbr\\u003etop1=%{y}\\u003cbr\\u003esize=%{marker.size}\\u003cbr\\u003einfer_img_size=%{customdata[0]}\\u003cextra\\u003e\\u003c\\u002fextra\\u003e\",\"hovertext\":[\"resnetv2_50.a1h_in1k\",\"resnetv2_50.a1h_in1k\",\"resnetv2_101.a1h_in1k\",\"resnetv2_101.a1h_in1k\"],\"legendgroup\":\"resnetv2\",\"marker\":{\"color\":\"#ab63fa\",\"size\":[50176,50176,50176,50176],\"sizemode\":\"area\",\"sizeref\":655.36,\"symbol\":\"circle\"},\"mode\":\"markers\",\"name\":\"resnetv2\",\"orientation\":\"v\",\"showlegend\":true,\"x\":[0.0002586994145632249,0.0002586994145632249,0.0004290740581824423,0.0004290740581824423],\"xaxis\":\"x\",\"y\":[81.408,80.406,83.002,82.042],\"yaxis\":\"y\",\"type\":\"scatter\"},{\"customdata\":[[224],[224],[224]],\"hovertemplate\":\"\\u003cb\\u003e%{hovertext}\\u003c\\u002fb\\u003e\\u003cbr\\u003e\\u003cbr\\u003efamily=convit\\u003cbr\\u003esecs=%{x}\\u003cbr\\u003etop1=%{y}\\u003cbr\\u003esize=%{marker.size}\\u003cbr\\u003einfer_img_size=%{customdata[0]}\\u003cextra\\u003e\\u003c\\u002fextra\\u003e\",\"hovertext\":[\"convit_tiny.fb_in1k\",\"convit_small.fb_in1k\",\"convit_base.fb_in1k\"],\"legendgroup\":\"convit\",\"marker\":{\"color\":\"#FFA15A\",\"size\":[50176,50176,50176],\"sizemode\":\"area\",\"sizeref\":655.36,\"symbol\":\"circle\"},\"mode\":\"markers\",\"name\":\"convit\",\"orientation\":\"v\",\"showlegend\":true,\"x\":[0.00029415138795332407,0.0006860875173237098,0.001367820651356194],\"xaxis\":\"x\",\"y\":[73.126,81.414,82.294],\"yaxis\":\"y\",\"type\":\"scatter\"},{\"customdata\":[[288],[288],[288],[288],[288],[288],[288],[288],[288],[288],[288],[288],[288],[288],[288],[288],[288],[288],[288],[288],[288],[288],[288],[288],[288],[288],[384],[384],[384],[384]],\"hovertemplate\":\"\\u003cb\\u003e%{hovertext}\\u003c\\u002fb\\u003e\\u003cbr\\u003e\\u003cbr\\u003efamily=convnextv2\\u003cbr\\u003esecs=%{x}\\u003cbr\\u003etop1=%{y}\\u003cbr\\u003esize=%{marker.size}\\u003cbr\\u003einfer_img_size=%{customdata[0]}\\u003cextra\\u003e\\u003c\\u002fextra\\u003e\",\"hovertext\":[\"convnextv2_atto.fcmae_ft_in1k\",\"convnextv2_atto.fcmae_ft_in1k\",\"convnextv2_femto.fcmae_ft_in1k\",\"convnextv2_femto.fcmae_ft_in1k\",\"convnextv2_pico.fcmae_ft_in1k\",\"convnextv2_pico.fcmae_ft_in1k\",\"convnextv2_nano.fcmae_ft_in22k_in1k_384\",\"convnextv2_nano.fcmae_ft_in22k_in1k\",\"convnextv2_nano.fcmae_ft_in1k\",\"convnextv2_nano.fcmae_ft_in22k_in1k\",\"convnextv2_nano.fcmae_ft_in1k\",\"convnextv2_tiny.fcmae_ft_in22k_in1k_384\",\"convnextv2_tiny.fcmae_ft_in22k_in1k\",\"convnextv2_tiny.fcmae_ft_in22k_in1k\",\"convnextv2_tiny.fcmae_ft_in1k\",\"convnextv2_tiny.fcmae_ft_in1k\",\"convnextv2_base.fcmae_ft_in22k_in1k_384\",\"convnextv2_base.fcmae_ft_in22k_in1k\",\"convnextv2_base.fcmae_ft_in22k_in1k\",\"convnextv2_base.fcmae_ft_in1k\",\"convnextv2_base.fcmae_ft_in1k\",\"convnextv2_large.fcmae_ft_in22k_in1k_384\",\"convnextv2_large.fcmae_ft_in22k_in1k\",\"convnextv2_large.fcmae_ft_in22k_in1k\",\"convnextv2_large.fcmae_ft_in1k\",\"convnextv2_large.fcmae_ft_in1k\",\"convnextv2_huge.fcmae_ft_in22k_in1k_512\",\"convnextv2_huge.fcmae_ft_in22k_in1k_384\",\"convnextv2_huge.fcmae_ft_in1k\",\"convnextv2_huge.fcmae_ft_in1k\"],\"legendgroup\":\"convnextv2\",\"marker\":{\"color\":\"#19d3f3\",\"size\":[82944,82944,82944,82944,82944,82944,82944,82944,82944,82944,82944,82944,82944,82944,82944,82944,82944,82944,82944,82944,82944,82944,82944,82944,82944,82944,147456,147456,147456,147456],\"sizemode\":\"area\",\"sizeref\":655.36,\"symbol\":\"circle\"},\"mode\":\"markers\",\"name\":\"convnextv2\",\"orientation\":\"v\",\"showlegend\":true,\"x\":[0.0003128196625927119,0.0003128196625927119,0.0003655090993490283,0.0003655090993490283,0.00047427080863172874,0.00047427080863172874,0.000666351260403409,0.000666351260403409,0.000666351260403409,0.000666351260403409,0.000666351260403409,0.0010743215659311145,0.0010743215659311145,0.0010743215659311145,0.0010743215659311145,0.0010743215659311145,0.002477762085284571,0.002477762085284571,0.002477762085284571,0.002477762085284571,0.002477762085284571,0.0041750167000668,0.0041750167000668,0.0041750167000668,0.0041750167000668,0.0041750167000668,0.01775883502042266,0.01775883502042266,0.01775883502042266,0.01775883502042266],\"xaxis\":\"x\",\"y\":[77.79,76.646,79.332,78.484,81.056,80.304,83.362,82.666,82.496,82.038,81.856,85.106,84.422,83.904,83.476,82.948,87.638,86.998,86.752,85.49,84.888,88.178,87.494,87.264,86.126,85.762,88.86,88.662,86.618,86.26],\"yaxis\":\"y\",\"type\":\"scatter\"},{\"customdata\":[[224],[224],[224],[224]],\"hovertemplate\":\"\\u003cb\\u003e%{hovertext}\\u003c\\u002fb\\u003e\\u003cbr\\u003e\\u003cbr\\u003efamily=resnetaad\\u003cbr\\u003esecs=%{x}\\u003cbr\\u003etop1=%{y}\\u003cbr\\u003esize=%{marker.size}\\u003cbr\\u003einfer_img_size=%{customdata[0]}\\u003cextra\\u003e\\u003c\\u002fextra\\u003e\",\"hovertext\":[\"resnetaa50d.sw_in12k_ft_in1k\",\"resnetaa50d.sw_in12k_ft_in1k\",\"resnetaa101d.sw_in12k_ft_in1k\",\"resnetaa101d.sw_in12k_ft_in1k\"],\"legendgroup\":\"resnetaad\",\"marker\":{\"color\":\"#FF6692\",\"size\":[50176,50176,50176,50176],\"sizemode\":\"area\",\"sizeref\":655.36,\"symbol\":\"circle\"},\"mode\":\"markers\",\"name\":\"resnetaad\",\"orientation\":\"v\",\"showlegend\":true,\"x\":[0.00033410958126046177,0.00033410958126046177,0.0005042915208423685,0.0005042915208423685],\"xaxis\":\"x\",\"y\":[82.644,81.782,84.102,83.544],\"yaxis\":\"y\",\"type\":\"scatter\"},{\"customdata\":[[224],[224],[224],[224],[224],[224],[224],[224]],\"hovertemplate\":\"\\u003cb\\u003e%{hovertext}\\u003c\\u002fb\\u003e\\u003cbr\\u003e\\u003cbr\\u003efamily=vgg\\u003cbr\\u003esecs=%{x}\\u003cbr\\u003etop1=%{y}\\u003cbr\\u003esize=%{marker.size}\\u003cbr\\u003einfer_img_size=%{customdata[0]}\\u003cextra\\u003e\\u003c\\u002fextra\\u003e\",\"hovertext\":[\"vgg11.tv_in1k\",\"vgg11_bn.tv_in1k\",\"vgg13.tv_in1k\",\"vgg13_bn.tv_in1k\",\"vgg16.tv_in1k\",\"vgg16_bn.tv_in1k\",\"vgg19.tv_in1k\",\"vgg19_bn.tv_in1k\"],\"legendgroup\":\"vgg\",\"marker\":{\"color\":\"#B6E880\",\"size\":[50176,50176,50176,50176,50176,50176,50176,50176],\"sizemode\":\"area\",\"sizeref\":655.36,\"symbol\":\"circle\"},\"mode\":\"markers\",\"name\":\"vgg\",\"orientation\":\"v\",\"showlegend\":true,\"x\":[0.00033518017610366456,0.0003622689629688666,0.00046517902414744313,0.0005319941267848403,0.0005822619713061301,0.0006562282624388067,0.0007175093814351623,0.0008022334178352533],\"xaxis\":\"x\",\"y\":[69.048,70.384,69.94,71.556,71.6,73.356,72.4,74.236],\"yaxis\":\"y\",\"type\":\"scatter\"},{\"customdata\":[[224],[224],[288],[288],[320],[320],[320],[320],[352],[352],[384],[384],[416],[416]],\"hovertemplate\":\"\\u003cb\\u003e%{hovertext}\\u003c\\u002fb\\u003e\\u003cbr\\u003e\\u003cbr\\u003efamily=resnetrs\\u003cbr\\u003esecs=%{x}\\u003cbr\\u003etop1=%{y}\\u003cbr\\u003esize=%{marker.size}\\u003cbr\\u003einfer_img_size=%{customdata[0]}\\u003cextra\\u003e\\u003c\\u002fextra\\u003e\",\"hovertext\":[\"resnetrs50.tf_in1k\",\"resnetrs50.tf_in1k\",\"resnetrs101.tf_in1k\",\"resnetrs101.tf_in1k\",\"resnetrs152.tf_in1k\",\"resnetrs152.tf_in1k\",\"resnetrs200.tf_in1k\",\"resnetrs200.tf_in1k\",\"resnetrs270.tf_in1k\",\"resnetrs270.tf_in1k\",\"resnetrs350.tf_in1k\",\"resnetrs350.tf_in1k\",\"resnetrs420.tf_in1k\",\"resnetrs420.tf_in1k\"],\"legendgroup\":\"resnetrs\",\"marker\":{\"color\":\"#FF97FF\",\"size\":[50176,50176,82944,82944,102400,102400,102400,102400,123904,123904,147456,147456,173056,173056],\"sizemode\":\"area\",\"sizeref\":655.36,\"symbol\":\"circle\"},\"mode\":\"markers\",\"name\":\"resnetrs\",\"orientation\":\"v\",\"showlegend\":true,\"x\":[0.0003374479486539201,0.0003374479486539201,0.0008813135096547894,0.0008813135096547894,0.0015385798907608277,0.0015385798907608277,0.002120081411126187,0.002120081411126187,0.0033673435027107112,0.0033673435027107112,0.005097099750242112,0.005097099750242112,0.007023951675212474,0.007023951675212474],\"xaxis\":\"x\",\"y\":[79.916,77.85,82.294,80.71,83.71,82.886,84.446,83.886,84.44,83.594,84.722,84.308,85.014,84.25],\"yaxis\":\"y\",\"type\":\"scatter\"},{\"customdata\":[[240],[240],[240],[240],[240],[240],[240],[240],[240]],\"hovertemplate\":\"\\u003cb\\u003e%{hovertext}\\u003c\\u002fb\\u003e\\u003cbr\\u003e\\u003cbr\\u003efamily=flexivit\\u003cbr\\u003esecs=%{x}\\u003cbr\\u003etop1=%{y}\\u003cbr\\u003esize=%{marker.size}\\u003cbr\\u003einfer_img_size=%{customdata[0]}\\u003cextra\\u003e\\u003c\\u002fextra\\u003e\",\"hovertext\":[\"flexivit_small.1200ep_in1k\",\"flexivit_small.600ep_in1k\",\"flexivit_small.300ep_in1k\",\"flexivit_base.1200ep_in1k\",\"flexivit_base.600ep_in1k\",\"flexivit_base.300ep_in1k\",\"flexivit_large.1200ep_in1k\",\"flexivit_large.600ep_in1k\",\"flexivit_large.300ep_in1k\"],\"legendgroup\":\"flexivit\",\"marker\":{\"color\":\"#FECB52\",\"size\":[57600,57600,57600,57600,57600,57600,57600,57600,57600],\"sizemode\":\"area\",\"sizeref\":655.36,\"symbol\":\"circle\"},\"mode\":\"markers\",\"name\":\"flexivit\",\"orientation\":\"v\",\"showlegend\":true,\"x\":[0.00036552646777153133,0.00036552646777153133,0.00036552646777153133,0.0009641249120236017,0.0009641249120236017,0.0009641249120236017,0.002981959147159684,0.002981959147159684,0.002981959147159684],\"xaxis\":\"x\",\"y\":[82.592,82.392,82.17,84.688,84.56,84.402,85.644,85.53,85.282],\"yaxis\":\"y\",\"type\":\"scatter\"},{\"customdata\":[[224],[224]],\"hovertemplate\":\"\\u003cb\\u003e%{hovertext}\\u003c\\u002fb\\u003e\\u003cbr\\u003e\\u003cbr\\u003efamily=resnetblur\\u003cbr\\u003esecs=%{x}\\u003cbr\\u003etop1=%{y}\\u003cbr\\u003esize=%{marker.size}\\u003cbr\\u003einfer_img_size=%{customdata[0]}\\u003cextra\\u003e\\u003c\\u002fextra\\u003e\",\"hovertext\":[\"resnetblur50.bt_in1k\",\"resnetblur50.bt_in1k\"],\"legendgroup\":\"resnetblur\",\"marker\":{\"color\":\"#636efa\",\"size\":[50176,50176],\"sizemode\":\"area\",\"sizeref\":655.36,\"symbol\":\"circle\"},\"mode\":\"markers\",\"name\":\"resnetblur\",\"orientation\":\"v\",\"showlegend\":true,\"x\":[0.0003723049773452422,0.0003723049773452422],\"xaxis\":\"x\",\"y\":[80.248,79.306],\"yaxis\":\"y\",\"type\":\"scatter\"},{\"customdata\":[[288],[288],[320],[320],[320],[320],[320],[320],[320],[320],[320],[320],[320],[320],[320],[320]],\"hovertemplate\":\"\\u003cb\\u003e%{hovertext}\\u003c\\u002fb\\u003e\\u003cbr\\u003e\\u003cbr\\u003efamily=regnetz\\u003cbr\\u003esecs=%{x}\\u003cbr\\u003etop1=%{y}\\u003cbr\\u003esize=%{marker.size}\\u003cbr\\u003einfer_img_size=%{customdata[0]}\\u003cextra\\u003e\\u003c\\u002fextra\\u003e\",\"hovertext\":[\"regnetz_b16.ra3_in1k\",\"regnetz_b16.ra3_in1k\",\"regnetz_c16.ra3_in1k\",\"regnetz_c16.ra3_in1k\",\"regnetz_d32.ra3_in1k\",\"regnetz_d32.ra3_in1k\",\"regnetz_d8.ra3_in1k\",\"regnetz_d8.ra3_in1k\",\"regnetz_040.ra3_in1k\",\"regnetz_040.ra3_in1k\",\"regnetz_e8.ra3_in1k\",\"regnetz_e8.ra3_in1k\",\"regnetz_c16_evos.ch_in1k\",\"regnetz_c16_evos.ch_in1k\",\"regnetz_d8_evos.ch_in1k\",\"regnetz_d8_evos.ch_in1k\"],\"legendgroup\":\"regnetz\",\"marker\":{\"color\":\"#EF553B\",\"size\":[82944,82944,102400,102400,102400,102400,102400,102400,102400,102400,102400,102400,102400,102400,102400,102400],\"sizemode\":\"area\",\"sizeref\":655.36,\"symbol\":\"circle\"},\"mode\":\"markers\",\"name\":\"regnetz\",\"orientation\":\"v\",\"showlegend\":true,\"x\":[0.00038070437924247444,0.00038070437924247444,0.0005844911128126296,0.0005844911128126296,0.0008173206594143081,0.0008173206594143081,0.0008593723144615172,0.0008593723144615172,0.001024831671397973,0.001024831671397973,0.001563892842062462,0.001563892842062462,0.001675238302648552,0.001675238302648552,0.0025355612464819086,0.0025355612464819086],\"xaxis\":\"x\",\"y\":[80.738,79.874,82.66,82.16,84.028,83.428,84.042,83.548,84.256,83.66,85.04,84.418,82.644,81.942,84.152,83.394],\"yaxis\":\"y\",\"type\":\"scatter\"},{\"customdata\":[[288],[288],[384],[384],[416],[416]],\"hovertemplate\":\"\\u003cb\\u003e%{hovertext}\\u003c\\u002fb\\u003e\\u003cbr\\u003e\\u003cbr\\u003efamily=efficientnetv2\\u003cbr\\u003esecs=%{x}\\u003cbr\\u003etop1=%{y}\\u003cbr\\u003esize=%{marker.size}\\u003cbr\\u003einfer_img_size=%{customdata[0]}\\u003cextra\\u003e\\u003c\\u002fextra\\u003e\",\"hovertext\":[\"efficientnetv2_rw_t.ra2_in1k\",\"efficientnetv2_rw_t.ra2_in1k\",\"efficientnetv2_rw_s.ra2_in1k\",\"efficientnetv2_rw_s.ra2_in1k\",\"efficientnetv2_rw_m.agc_in1k\",\"efficientnetv2_rw_m.agc_in1k\"],\"legendgroup\":\"efficientnetv2\",\"marker\":{\"color\":\"#00cc96\",\"size\":[82944,82944,147456,147456,173056,173056],\"sizemode\":\"area\",\"sizeref\":655.36,\"symbol\":\"circle\"},\"mode\":\"markers\",\"name\":\"efficientnetv2\",\"orientation\":\"v\",\"showlegend\":true,\"x\":[0.0003843950966561471,0.0003843950966561471,0.0008334236208922634,0.0008334236208922634,0.0018403666010269246,0.0018403666010269246],\"xaxis\":\"x\",\"y\":[82.354,81.372,83.83,82.888,84.824,84.294],\"yaxis\":\"y\",\"type\":\"scatter\"},{\"customdata\":[[224],[224],[224],[224],[224]],\"hovertemplate\":\"\\u003cb\\u003e%{hovertext}\\u003c\\u002fb\\u003e\\u003cbr\\u003e\\u003cbr\\u003efamily=gcvit\\u003cbr\\u003esecs=%{x}\\u003cbr\\u003etop1=%{y}\\u003cbr\\u003esize=%{marker.size}\\u003cbr\\u003einfer_img_size=%{customdata[0]}\\u003cextra\\u003e\\u003c\\u002fextra\\u003e\",\"hovertext\":[\"gcvit_xxtiny.in1k\",\"gcvit_xtiny.in1k\",\"gcvit_tiny.in1k\",\"gcvit_small.in1k\",\"gcvit_base.in1k\"],\"legendgroup\":\"gcvit\",\"marker\":{\"color\":\"#ab63fa\",\"size\":[50176,50176,50176,50176,50176],\"sizemode\":\"area\",\"sizeref\":655.36,\"symbol\":\"circle\"},\"mode\":\"markers\",\"name\":\"gcvit\",\"orientation\":\"v\",\"showlegend\":true,\"x\":[0.0003904099695089814,0.0005076966816944885,0.0007464636285596984,0.0012266326480545606,0.0016599714484910862],\"xaxis\":\"x\",\"y\":[79.75,81.968,83.4,83.908,84.454],\"yaxis\":\"y\",\"type\":\"scatter\"},{\"customdata\":[[256],[256],[256],[224],[224],[256],[224],[224],[224],[224],[384],[224],[384],[512],[384],[384],[384],[512],[384],[384],[512],[512],[384],[512],[512],[512]],\"hovertemplate\":\"\\u003cb\\u003e%{hovertext}\\u003c\\u002fb\\u003e\\u003cbr\\u003e\\u003cbr\\u003efamily=maxvit\\u003cbr\\u003esecs=%{x}\\u003cbr\\u003etop1=%{y}\\u003cbr\\u003esize=%{marker.size}\\u003cbr\\u003einfer_img_size=%{customdata[0]}\\u003cextra\\u003e\\u003c\\u002fextra\\u003e\",\"hovertext\":[\"maxvit_rmlp_pico_rw_256.sw_in1k\",\"maxvit_rmlp_nano_rw_256.sw_in1k\",\"maxvit_nano_rw_256.sw_in1k\",\"maxvit_tiny_rw_224.sw_in1k\",\"maxvit_tiny_tf_224.in1k\",\"maxvit_rmlp_tiny_rw_256.sw_in1k\",\"maxvit_rmlp_small_rw_224.sw_in1k\",\"maxvit_small_tf_224.in1k\",\"maxvit_rmlp_base_rw_224.sw_in12k_ft_in1k\",\"maxvit_base_tf_224.in1k\",\"maxvit_tiny_tf_384.in1k\",\"maxvit_large_tf_224.in1k\",\"maxvit_small_tf_384.in1k\",\"maxvit_tiny_tf_512.in1k\",\"maxvit_rmlp_base_rw_384.sw_in12k_ft_in1k\",\"maxvit_base_tf_384.in21k_ft_in1k\",\"maxvit_base_tf_384.in1k\",\"maxvit_small_tf_512.in1k\",\"maxvit_large_tf_384.in21k_ft_in1k\",\"maxvit_large_tf_384.in1k\",\"maxvit_base_tf_512.in21k_ft_in1k\",\"maxvit_base_tf_512.in1k\",\"maxvit_xlarge_tf_384.in21k_ft_in1k\",\"maxvit_large_tf_512.in21k_ft_in1k\",\"maxvit_large_tf_512.in1k\",\"maxvit_xlarge_tf_512.in21k_ft_in1k\"],\"legendgroup\":\"maxvit\",\"marker\":{\"color\":\"#FFA15A\",\"size\":[65536,65536,65536,50176,50176,65536,50176,50176,50176,50176,147456,50176,147456,262144,147456,147456,147456,262144,147456,147456,262144,262144,147456,262144,262144,262144],\"sizemode\":\"area\",\"sizeref\":655.36,\"symbol\":\"circle\"},\"mode\":\"markers\",\"name\":\"maxvit\",\"orientation\":\"v\",\"showlegend\":true,\"x\":[0.0004978145939326358,0.0006443921770789703,0.0006590089822924286,0.0007404939094375948,0.0008331250520703158,0.0009715812484819043,0.0012249797878335006,0.001286935035519407,0.0021183747828665846,0.002325311010347634,0.0029068922415046074,0.0033175198221809376,0.004464086424713183,0.0061079892499389206,0.007598784194528876,0.008164598301763554,0.008164598301763554,0.009361542782250515,0.01156871818602499,0.01156871818602499,0.017283097131005877,0.017283097131005877,0.019700551615445233,0.02436647173489279,0.02436647173489279,0.04101722723543889],\"xaxis\":\"x\",\"y\":[80.55,82.98,82.942,83.522,83.422,84.234,84.484,84.456,86.908,84.87,85.102,84.934,85.534,85.66,87.812,87.928,86.294,86.104,87.996,86.236,88.212,86.598,88.304,88.236,86.534,88.54],\"yaxis\":\"y\",\"type\":\"scatter\"},{\"customdata\":[[224],[224],[224],[224],[224],[224],[224],[224],[224],[224],[384],[384],[384]],\"hovertemplate\":\"\\u003cb\\u003e%{hovertext}\\u003c\\u002fb\\u003e\\u003cbr\\u003e\\u003cbr\\u003efamily=swin\\u003cbr\\u003esecs=%{x}\\u003cbr\\u003etop1=%{y}\\u003cbr\\u003esize=%{marker.size}\\u003cbr\\u003einfer_img_size=%{customdata[0]}\\u003cextra\\u003e\\u003c\\u002fextra\\u003e\",\"hovertext\":[\"swin_tiny_patch4_window7_224.ms_in1k\",\"swin_tiny_patch4_window7_224.ms_in22k_ft_in1k\",\"swin_s3_tiny_224.ms_in1k\",\"swin_small_patch4_window7_224.ms_in22k_ft_in1k\",\"swin_small_patch4_window7_224.ms_in1k\",\"swin_s3_small_224.ms_in1k\",\"swin_base_patch4_window7_224.ms_in22k_ft_in1k\",\"swin_base_patch4_window7_224.ms_in1k\",\"swin_s3_base_224.ms_in1k\",\"swin_large_patch4_window7_224.ms_in22k_ft_in1k\",\"swin_base_patch4_window12_384.ms_in22k_ft_in1k\",\"swin_base_patch4_window12_384.ms_in1k\",\"swin_large_patch4_window12_384.ms_in22k_ft_in1k\"],\"legendgroup\":\"swin\",\"marker\":{\"color\":\"#19d3f3\",\"size\":[50176,50176,50176,50176,50176,50176,50176,50176,50176,50176,147456,147456,147456],\"sizemode\":\"area\",\"sizeref\":655.36,\"symbol\":\"circle\"},\"mode\":\"markers\",\"name\":\"swin\",\"orientation\":\"v\",\"showlegend\":true,\"x\":[0.0005012179596419298,0.0005012179596419298,0.0005502063273727648,0.0008092317154093904,0.0008092317154093904,0.0011111358030178448,0.001142361031780484,0.001142361031780484,0.0013637541424032075,0.0019825535289452814,0.0042351346772827375,0.0042351346772827375,0.007227000072270001],\"xaxis\":\"x\",\"y\":[81.388,80.966,82.128,83.33,83.228,83.778,85.27,83.61,83.92,86.33,86.438,84.476,87.138],\"yaxis\":\"y\",\"type\":\"scatter\"},{\"customdata\":[[288],[288]],\"hovertemplate\":\"\\u003cb\\u003e%{hovertext}\\u003c\\u002fb\\u003e\\u003cbr\\u003e\\u003cbr\\u003efamily=resnetaa\\u003cbr\\u003esecs=%{x}\\u003cbr\\u003etop1=%{y}\\u003cbr\\u003esize=%{marker.size}\\u003cbr\\u003einfer_img_size=%{customdata[0]}\\u003cextra\\u003e\\u003c\\u002fextra\\u003e\",\"hovertext\":[\"resnetaa50.a1h_in1k\",\"resnetaa50.a1h_in1k\"],\"legendgroup\":\"resnetaa\",\"marker\":{\"color\":\"#FF6692\",\"size\":[82944,82944],\"sizemode\":\"area\",\"sizeref\":655.36,\"symbol\":\"circle\"},\"mode\":\"markers\",\"name\":\"resnetaa\",\"orientation\":\"v\",\"showlegend\":true,\"x\":[0.000510686106784465,0.000510686106784465],\"xaxis\":\"x\",\"y\":[81.604,80.614],\"yaxis\":\"y\",\"type\":\"scatter\"},{\"customdata\":[[288],[288],[288],[288]],\"hovertemplate\":\"\\u003cb\\u003e%{hovertext}\\u003c\\u002fb\\u003e\\u003cbr\\u003e\\u003cbr\\u003efamily=regnetv\\u003cbr\\u003esecs=%{x}\\u003cbr\\u003etop1=%{y}\\u003cbr\\u003esize=%{marker.size}\\u003cbr\\u003einfer_img_size=%{customdata[0]}\\u003cextra\\u003e\\u003c\\u002fextra\\u003e\",\"hovertext\":[\"regnetv_040.ra3_in1k\",\"regnetv_040.ra3_in1k\",\"regnetv_064.ra3_in1k\",\"regnetv_064.ra3_in1k\"],\"legendgroup\":\"regnetv\",\"marker\":{\"color\":\"#B6E880\",\"size\":[82944,82944,82944,82944],\"sizemode\":\"area\",\"sizeref\":655.36,\"symbol\":\"circle\"},\"mode\":\"markers\",\"name\":\"regnetv\",\"orientation\":\"v\",\"showlegend\":true,\"x\":[0.0005942053098186485,0.0005942053098186485,0.0015323322096230463,0.0015323322096230463],\"xaxis\":\"x\",\"y\":[83.2,82.448,83.748,83.118],\"yaxis\":\"y\",\"type\":\"scatter\"},{\"customdata\":[[224],[256],[224],[224],[256],[256],[256],[256],[256]],\"hovertemplate\":\"\\u003cb\\u003e%{hovertext}\\u003c\\u002fb\\u003e\\u003cbr\\u003e\\u003cbr\\u003efamily=swinv2\\u003cbr\\u003esecs=%{x}\\u003cbr\\u003etop1=%{y}\\u003cbr\\u003esize=%{marker.size}\\u003cbr\\u003einfer_img_size=%{customdata[0]}\\u003cextra\\u003e\\u003c\\u002fextra\\u003e\",\"hovertext\":[\"swinv2_cr_tiny_ns_224.sw_in1k\",\"swinv2_tiny_window8_256.ms_in1k\",\"swinv2_cr_small_224.sw_in1k\",\"swinv2_cr_small_ns_224.sw_in1k\",\"swinv2_tiny_window16_256.ms_in1k\",\"swinv2_small_window8_256.ms_in1k\",\"swinv2_base_window8_256.ms_in1k\",\"swinv2_small_window16_256.ms_in1k\",\"swinv2_base_window16_256.ms_in1k\"],\"legendgroup\":\"swinv2\",\"marker\":{\"color\":\"#FF97FF\",\"size\":[50176,65536,50176,50176,65536,65536,65536,65536,65536],\"sizemode\":\"area\",\"sizeref\":655.36,\"symbol\":\"circle\"},\"mode\":\"markers\",\"name\":\"swinv2\",\"orientation\":\"v\",\"showlegend\":true,\"x\":[0.000624832076379473,0.0008332916687498958,0.000994747731975171,0.0010062893081761006,0.0012794104476657156,0.0013477997169620594,0.0018803708091235593,0.0020451152422439004,0.0027760042195264134],\"xaxis\":\"x\",\"y\":[81.796,81.824,83.126,83.49,82.828,83.844,84.246,84.216,84.608],\"yaxis\":\"y\",\"type\":\"scatter\"},{\"customdata\":[[224],[224],[224],[224]],\"hovertemplate\":\"\\u003cb\\u003e%{hovertext}\\u003c\\u002fb\\u003e\\u003cbr\\u003e\\u003cbr\\u003efamily=mvitv2\\u003cbr\\u003esecs=%{x}\\u003cbr\\u003etop1=%{y}\\u003cbr\\u003esize=%{marker.size}\\u003cbr\\u003einfer_img_size=%{customdata[0]}\\u003cextra\\u003e\\u003c\\u002fextra\\u003e\",\"hovertext\":[\"mvitv2_tiny.fb_in1k\",\"mvitv2_small.fb_in1k\",\"mvitv2_base.fb_in1k\",\"mvitv2_large.fb_in1k\"],\"legendgroup\":\"mvitv2\",\"marker\":{\"color\":\"#FECB52\",\"size\":[50176,50176,50176,50176],\"sizemode\":\"area\",\"sizeref\":655.36,\"symbol\":\"circle\"},\"mode\":\"markers\",\"name\":\"mvitv2\",\"orientation\":\"v\",\"showlegend\":true,\"x\":[0.0006503895833604329,0.0008719003940989781,0.0012435645534359689,0.004000160006400256],\"xaxis\":\"x\",\"y\":[82.408,83.772,84.438,85.264],\"yaxis\":\"y\",\"type\":\"scatter\"},{\"customdata\":[[256],[256]],\"hovertemplate\":\"\\u003cb\\u003e%{hovertext}\\u003c\\u002fb\\u003e\\u003cbr\\u003e\\u003cbr\\u003efamily=maxxvit\\u003cbr\\u003esecs=%{x}\\u003cbr\\u003etop1=%{y}\\u003cbr\\u003esize=%{marker.size}\\u003cbr\\u003einfer_img_size=%{customdata[0]}\\u003cextra\\u003e\\u003c\\u002fextra\\u003e\",\"hovertext\":[\"maxxvit_rmlp_nano_rw_256.sw_in1k\",\"maxxvit_rmlp_small_rw_256.sw_in1k\"],\"legendgroup\":\"maxxvit\",\"marker\":{\"color\":\"#636efa\",\"size\":[65536,65536],\"sizemode\":\"area\",\"sizeref\":655.36,\"symbol\":\"circle\"},\"mode\":\"markers\",\"name\":\"maxxvit\",\"orientation\":\"v\",\"showlegend\":true,\"x\":[0.0007419883804619619,0.0016943983191568676],\"xaxis\":\"x\",\"y\":[83.026,84.64],\"yaxis\":\"y\",\"type\":\"scatter\"},{\"customdata\":[[256],[224],[384]],\"hovertemplate\":\"\\u003cb\\u003e%{hovertext}\\u003c\\u002fb\\u003e\\u003cbr\\u003e\\u003cbr\\u003efamily=maxxvitv2\\u003cbr\\u003esecs=%{x}\\u003cbr\\u003etop1=%{y}\\u003cbr\\u003esize=%{marker.size}\\u003cbr\\u003einfer_img_size=%{customdata[0]}\\u003cextra\\u003e\\u003c\\u002fextra\\u003e\",\"hovertext\":[\"maxxvitv2_nano_rw_256.sw_in1k\",\"maxxvitv2_rmlp_base_rw_224.sw_in12k_ft_in1k\",\"maxxvitv2_rmlp_base_rw_384.sw_in12k_ft_in1k\"],\"legendgroup\":\"maxxvitv2\",\"marker\":{\"color\":\"#EF553B\",\"size\":[65536,50176,147456],\"sizemode\":\"area\",\"sizeref\":655.36,\"symbol\":\"circle\"},\"mode\":\"markers\",\"name\":\"maxxvitv2\",\"orientation\":\"v\",\"showlegend\":true,\"x\":[0.0007938398031277288,0.0019021532374648101,0.00649772579597141],\"xaxis\":\"x\",\"y\":[83.104,86.638,87.478],\"yaxis\":\"y\",\"type\":\"scatter\"},{\"customdata\":[[224],[224],[384],[384],[512]],\"hovertemplate\":\"\\u003cb\\u003e%{hovertext}\\u003c\\u002fb\\u003e\\u003cbr\\u003e\\u003cbr\\u003efamily=beit\\u003cbr\\u003esecs=%{x}\\u003cbr\\u003etop1=%{y}\\u003cbr\\u003esize=%{marker.size}\\u003cbr\\u003einfer_img_size=%{customdata[0]}\\u003cextra\\u003e\\u003c\\u002fextra\\u003e\",\"hovertext\":[\"beit_base_patch16_224.in22k_ft_in22k_in1k\",\"beit_large_patch16_224.in22k_ft_in22k_in1k\",\"beit_base_patch16_384.in22k_ft_in22k_in1k\",\"beit_large_patch16_384.in22k_ft_in22k_in1k\",\"beit_large_patch16_512.in22k_ft_in22k_in1k\"],\"legendgroup\":\"beit\",\"marker\":{\"color\":\"#00cc96\",\"size\":[50176,50176,147456,147456,262144],\"sizemode\":\"area\",\"sizeref\":655.36,\"symbol\":\"circle\"},\"mode\":\"markers\",\"name\":\"beit\",\"orientation\":\"v\",\"showlegend\":true,\"x\":[0.0008990703612464712,0.0027730020520215183,0.003827458185019329,0.011291779584462511,0.028304557033682426],\"xaxis\":\"x\",\"y\":[85.244,87.488,86.816,88.382,88.578],\"yaxis\":\"y\",\"type\":\"scatter\"},{\"customdata\":[[224],[224],[224],[224]],\"hovertemplate\":\"\\u003cb\\u003e%{hovertext}\\u003c\\u002fb\\u003e\\u003cbr\\u003e\\u003cbr\\u003efamily=beitv2\\u003cbr\\u003esecs=%{x}\\u003cbr\\u003etop1=%{y}\\u003cbr\\u003esize=%{marker.size}\\u003cbr\\u003einfer_img_size=%{customdata[0]}\\u003cextra\\u003e\\u003c\\u002fextra\\u003e\",\"hovertext\":[\"beitv2_base_patch16_224.in1k_ft_in22k_in1k\",\"beitv2_base_patch16_224.in1k_ft_in1k\",\"beitv2_large_patch16_224.in1k_ft_in22k_in1k\",\"beitv2_large_patch16_224.in1k_ft_in1k\"],\"legendgroup\":\"beitv2\",\"marker\":{\"color\":\"#ab63fa\",\"size\":[50176,50176,50176,50176],\"sizemode\":\"area\",\"sizeref\":655.36,\"symbol\":\"circle\"},\"mode\":\"markers\",\"name\":\"beitv2\",\"orientation\":\"v\",\"showlegend\":true,\"x\":[0.0009020792927698345,0.0009020792927698345,0.002773309667757502,0.002773309667757502],\"xaxis\":\"x\",\"y\":[86.494,85.596,88.406,87.414],\"yaxis\":\"y\",\"type\":\"scatter\"},{\"customdata\":[[288],[288]],\"hovertemplate\":\"\\u003cb\\u003e%{hovertext}\\u003c\\u002fb\\u003e\\u003cbr\\u003e\\u003cbr\\u003efamily=resnetv2d\\u003cbr\\u003esecs=%{x}\\u003cbr\\u003etop1=%{y}\\u003cbr\\u003esize=%{marker.size}\\u003cbr\\u003einfer_img_size=%{customdata[0]}\\u003cextra\\u003e\\u003c\\u002fextra\\u003e\",\"hovertext\":[\"resnetv2_50d_evos.ah_in1k\",\"resnetv2_50d_evos.ah_in1k\"],\"legendgroup\":\"resnetv2d\",\"marker\":{\"color\":\"#FFA15A\",\"size\":[82944,82944],\"sizemode\":\"area\",\"sizeref\":655.36,\"symbol\":\"circle\"},\"mode\":\"markers\",\"name\":\"resnetv2d\",\"orientation\":\"v\",\"showlegend\":true,\"x\":[0.0011698369247326922,0.0011698369247326922],\"xaxis\":\"x\",\"y\":[82.0,80.828],\"yaxis\":\"y\",\"type\":\"scatter\"}],                        {\"template\":{\"data\":{\"histogram2dcontour\":[{\"type\":\"histogram2dcontour\",\"colorbar\":{\"outlinewidth\":0,\"ticks\":\"\"},\"colorscale\":[[0.0,\"#0d0887\"],[0.1111111111111111,\"#46039f\"],[0.2222222222222222,\"#7201a8\"],[0.3333333333333333,\"#9c179e\"],[0.4444444444444444,\"#bd3786\"],[0.5555555555555556,\"#d8576b\"],[0.6666666666666666,\"#ed7953\"],[0.7777777777777778,\"#fb9f3a\"],[0.8888888888888888,\"#fdca26\"],[1.0,\"#f0f921\"]]}],\"choropleth\":[{\"type\":\"choropleth\",\"colorbar\":{\"outlinewidth\":0,\"ticks\":\"\"}}],\"histogram2d\":[{\"type\":\"histogram2d\",\"colorbar\":{\"outlinewidth\":0,\"ticks\":\"\"},\"colorscale\":[[0.0,\"#0d0887\"],[0.1111111111111111,\"#46039f\"],[0.2222222222222222,\"#7201a8\"],[0.3333333333333333,\"#9c179e\"],[0.4444444444444444,\"#bd3786\"],[0.5555555555555556,\"#d8576b\"],[0.6666666666666666,\"#ed7953\"],[0.7777777777777778,\"#fb9f3a\"],[0.8888888888888888,\"#fdca26\"],[1.0,\"#f0f921\"]]}],\"heatmap\":[{\"type\":\"heatmap\",\"colorbar\":{\"outlinewidth\":0,\"ticks\":\"\"},\"colorscale\":[[0.0,\"#0d0887\"],[0.1111111111111111,\"#46039f\"],[0.2222222222222222,\"#7201a8\"],[0.3333333333333333,\"#9c179e\"],[0.4444444444444444,\"#bd3786\"],[0.5555555555555556,\"#d8576b\"],[0.6666666666666666,\"#ed7953\"],[0.7777777777777778,\"#fb9f3a\"],[0.8888888888888888,\"#fdca26\"],[1.0,\"#f0f921\"]]}],\"heatmapgl\":[{\"type\":\"heatmapgl\",\"colorbar\":{\"outlinewidth\":0,\"ticks\":\"\"},\"colorscale\":[[0.0,\"#0d0887\"],[0.1111111111111111,\"#46039f\"],[0.2222222222222222,\"#7201a8\"],[0.3333333333333333,\"#9c179e\"],[0.4444444444444444,\"#bd3786\"],[0.5555555555555556,\"#d8576b\"],[0.6666666666666666,\"#ed7953\"],[0.7777777777777778,\"#fb9f3a\"],[0.8888888888888888,\"#fdca26\"],[1.0,\"#f0f921\"]]}],\"contourcarpet\":[{\"type\":\"contourcarpet\",\"colorbar\":{\"outlinewidth\":0,\"ticks\":\"\"}}],\"contour\":[{\"type\":\"contour\",\"colorbar\":{\"outlinewidth\":0,\"ticks\":\"\"},\"colorscale\":[[0.0,\"#0d0887\"],[0.1111111111111111,\"#46039f\"],[0.2222222222222222,\"#7201a8\"],[0.3333333333333333,\"#9c179e\"],[0.4444444444444444,\"#bd3786\"],[0.5555555555555556,\"#d8576b\"],[0.6666666666666666,\"#ed7953\"],[0.7777777777777778,\"#fb9f3a\"],[0.8888888888888888,\"#fdca26\"],[1.0,\"#f0f921\"]]}],\"surface\":[{\"type\":\"surface\",\"colorbar\":{\"outlinewidth\":0,\"ticks\":\"\"},\"colorscale\":[[0.0,\"#0d0887\"],[0.1111111111111111,\"#46039f\"],[0.2222222222222222,\"#7201a8\"],[0.3333333333333333,\"#9c179e\"],[0.4444444444444444,\"#bd3786\"],[0.5555555555555556,\"#d8576b\"],[0.6666666666666666,\"#ed7953\"],[0.7777777777777778,\"#fb9f3a\"],[0.8888888888888888,\"#fdca26\"],[1.0,\"#f0f921\"]]}],\"mesh3d\":[{\"type\":\"mesh3d\",\"colorbar\":{\"outlinewidth\":0,\"ticks\":\"\"}}],\"scatter\":[{\"fillpattern\":{\"fillmode\":\"overlay\",\"size\":10,\"solidity\":0.2},\"type\":\"scatter\"}],\"parcoords\":[{\"type\":\"parcoords\",\"line\":{\"colorbar\":{\"outlinewidth\":0,\"ticks\":\"\"}}}],\"scatterpolargl\":[{\"type\":\"scatterpolargl\",\"marker\":{\"colorbar\":{\"outlinewidth\":0,\"ticks\":\"\"}}}],\"bar\":[{\"error_x\":{\"color\":\"#2a3f5f\"},\"error_y\":{\"color\":\"#2a3f5f\"},\"marker\":{\"line\":{\"color\":\"#E5ECF6\",\"width\":0.5},\"pattern\":{\"fillmode\":\"overlay\",\"size\":10,\"solidity\":0.2}},\"type\":\"bar\"}],\"scattergeo\":[{\"type\":\"scattergeo\",\"marker\":{\"colorbar\":{\"outlinewidth\":0,\"ticks\":\"\"}}}],\"scatterpolar\":[{\"type\":\"scatterpolar\",\"marker\":{\"colorbar\":{\"outlinewidth\":0,\"ticks\":\"\"}}}],\"histogram\":[{\"marker\":{\"pattern\":{\"fillmode\":\"overlay\",\"size\":10,\"solidity\":0.2}},\"type\":\"histogram\"}],\"scattergl\":[{\"type\":\"scattergl\",\"marker\":{\"colorbar\":{\"outlinewidth\":0,\"ticks\":\"\"}}}],\"scatter3d\":[{\"type\":\"scatter3d\",\"line\":{\"colorbar\":{\"outlinewidth\":0,\"ticks\":\"\"}},\"marker\":{\"colorbar\":{\"outlinewidth\":0,\"ticks\":\"\"}}}],\"scattermapbox\":[{\"type\":\"scattermapbox\",\"marker\":{\"colorbar\":{\"outlinewidth\":0,\"ticks\":\"\"}}}],\"scatterternary\":[{\"type\":\"scatterternary\",\"marker\":{\"colorbar\":{\"outlinewidth\":0,\"ticks\":\"\"}}}],\"scattercarpet\":[{\"type\":\"scattercarpet\",\"marker\":{\"colorbar\":{\"outlinewidth\":0,\"ticks\":\"\"}}}],\"carpet\":[{\"aaxis\":{\"endlinecolor\":\"#2a3f5f\",\"gridcolor\":\"white\",\"linecolor\":\"white\",\"minorgridcolor\":\"white\",\"startlinecolor\":\"#2a3f5f\"},\"baxis\":{\"endlinecolor\":\"#2a3f5f\",\"gridcolor\":\"white\",\"linecolor\":\"white\",\"minorgridcolor\":\"white\",\"startlinecolor\":\"#2a3f5f\"},\"type\":\"carpet\"}],\"table\":[{\"cells\":{\"fill\":{\"color\":\"#EBF0F8\"},\"line\":{\"color\":\"white\"}},\"header\":{\"fill\":{\"color\":\"#C8D4E3\"},\"line\":{\"color\":\"white\"}},\"type\":\"table\"}],\"barpolar\":[{\"marker\":{\"line\":{\"color\":\"#E5ECF6\",\"width\":0.5},\"pattern\":{\"fillmode\":\"overlay\",\"size\":10,\"solidity\":0.2}},\"type\":\"barpolar\"}],\"pie\":[{\"automargin\":true,\"type\":\"pie\"}]},\"layout\":{\"autotypenumbers\":\"strict\",\"colorway\":[\"#636efa\",\"#EF553B\",\"#00cc96\",\"#ab63fa\",\"#FFA15A\",\"#19d3f3\",\"#FF6692\",\"#B6E880\",\"#FF97FF\",\"#FECB52\"],\"font\":{\"color\":\"#2a3f5f\"},\"hovermode\":\"closest\",\"hoverlabel\":{\"align\":\"left\"},\"paper_bgcolor\":\"white\",\"plot_bgcolor\":\"#E5ECF6\",\"polar\":{\"bgcolor\":\"#E5ECF6\",\"angularaxis\":{\"gridcolor\":\"white\",\"linecolor\":\"white\",\"ticks\":\"\"},\"radialaxis\":{\"gridcolor\":\"white\",\"linecolor\":\"white\",\"ticks\":\"\"}},\"ternary\":{\"bgcolor\":\"#E5ECF6\",\"aaxis\":{\"gridcolor\":\"white\",\"linecolor\":\"white\",\"ticks\":\"\"},\"baxis\":{\"gridcolor\":\"white\",\"linecolor\":\"white\",\"ticks\":\"\"},\"caxis\":{\"gridcolor\":\"white\",\"linecolor\":\"white\",\"ticks\":\"\"}},\"coloraxis\":{\"colorbar\":{\"outlinewidth\":0,\"ticks\":\"\"}},\"colorscale\":{\"sequential\":[[0.0,\"#0d0887\"],[0.1111111111111111,\"#46039f\"],[0.2222222222222222,\"#7201a8\"],[0.3333333333333333,\"#9c179e\"],[0.4444444444444444,\"#bd3786\"],[0.5555555555555556,\"#d8576b\"],[0.6666666666666666,\"#ed7953\"],[0.7777777777777778,\"#fb9f3a\"],[0.8888888888888888,\"#fdca26\"],[1.0,\"#f0f921\"]],\"sequentialminus\":[[0.0,\"#0d0887\"],[0.1111111111111111,\"#46039f\"],[0.2222222222222222,\"#7201a8\"],[0.3333333333333333,\"#9c179e\"],[0.4444444444444444,\"#bd3786\"],[0.5555555555555556,\"#d8576b\"],[0.6666666666666666,\"#ed7953\"],[0.7777777777777778,\"#fb9f3a\"],[0.8888888888888888,\"#fdca26\"],[1.0,\"#f0f921\"]],\"diverging\":[[0,\"#8e0152\"],[0.1,\"#c51b7d\"],[0.2,\"#de77ae\"],[0.3,\"#f1b6da\"],[0.4,\"#fde0ef\"],[0.5,\"#f7f7f7\"],[0.6,\"#e6f5d0\"],[0.7,\"#b8e186\"],[0.8,\"#7fbc41\"],[0.9,\"#4d9221\"],[1,\"#276419\"]]},\"xaxis\":{\"gridcolor\":\"white\",\"linecolor\":\"white\",\"ticks\":\"\",\"title\":{\"standoff\":15},\"zerolinecolor\":\"white\",\"automargin\":true,\"zerolinewidth\":2},\"yaxis\":{\"gridcolor\":\"white\",\"linecolor\":\"white\",\"ticks\":\"\",\"title\":{\"standoff\":15},\"zerolinecolor\":\"white\",\"automargin\":true,\"zerolinewidth\":2},\"scene\":{\"xaxis\":{\"backgroundcolor\":\"#E5ECF6\",\"gridcolor\":\"white\",\"linecolor\":\"white\",\"showbackground\":true,\"ticks\":\"\",\"zerolinecolor\":\"white\",\"gridwidth\":2},\"yaxis\":{\"backgroundcolor\":\"#E5ECF6\",\"gridcolor\":\"white\",\"linecolor\":\"white\",\"showbackground\":true,\"ticks\":\"\",\"zerolinecolor\":\"white\",\"gridwidth\":2},\"zaxis\":{\"backgroundcolor\":\"#E5ECF6\",\"gridcolor\":\"white\",\"linecolor\":\"white\",\"showbackground\":true,\"ticks\":\"\",\"zerolinecolor\":\"white\",\"gridwidth\":2}},\"shapedefaults\":{\"line\":{\"color\":\"#2a3f5f\"}},\"annotationdefaults\":{\"arrowcolor\":\"#2a3f5f\",\"arrowhead\":0,\"arrowwidth\":1},\"geo\":{\"bgcolor\":\"white\",\"landcolor\":\"#E5ECF6\",\"subunitcolor\":\"white\",\"showland\":true,\"showlakes\":true,\"lakecolor\":\"white\"},\"title\":{\"x\":0.05},\"mapbox\":{\"style\":\"light\"}}},\"xaxis\":{\"anchor\":\"y\",\"domain\":[0.0,1.0],\"title\":{\"text\":\"secs\"},\"type\":\"log\"},\"yaxis\":{\"anchor\":\"x\",\"domain\":[0.0,1.0],\"title\":{\"text\":\"top1\"}},\"legend\":{\"title\":{\"text\":\"family\"},\"tracegroupgap\":0,\"itemsizing\":\"constant\"},\"title\":{\"text\":\"Inference\"},\"height\":800,\"width\":1000},                        {\"responsive\": true}                    ).then(function(){\n",
              "                            \n",
              "var gd = document.getElementById('715cb19a-d327-4bc0-adea-16ed5a1d0406');\n",
              "var x = new MutationObserver(function (mutations, observer) {{\n",
              "        var display = window.getComputedStyle(gd).display;\n",
              "        if (!display || display === 'none') {{\n",
              "            console.log([gd, 'removed!']);\n",
              "            Plotly.purge(gd);\n",
              "            observer.disconnect();\n",
              "        }}\n",
              "}});\n",
              "\n",
              "// Listen for the removal of the full notebook cells\n",
              "var notebookContainer = gd.closest('#notebook-container');\n",
              "if (notebookContainer) {{\n",
              "    x.observe(notebookContainer, {childList: true});\n",
              "}}\n",
              "\n",
              "// Listen for the clearing of the current output cell\n",
              "var outputEl = gd.closest('.output');\n",
              "if (outputEl) {{\n",
              "    x.observe(outputEl, {childList: true});\n",
              "}}\n",
              "\n",
              "                        })                };                            </script>        </div>\n",
              "</body>\n",
              "</html>"
            ]
          },
          "metadata": {}
        }
      ],
      "execution_count": 7
    },
    {
      "cell_type": "markdown",
      "source": [
        "That number of families can be a bit overwhelming, so I'll just pick a subset which represents a single key model from each of the families that are looking best in our plot. I've also separated convnext models into those which have been pretrained on the larger 22,000 category imagenet sample (`convnext_in22`) vs those that haven't (`convnext`). (Note that many of the best performing models were trained on the larger sample -- see the papers for details before coming to conclusions about the effectiveness of these architectures more generally.)"
      ],
      "metadata": {
        "id": "nO8z7RAT0KSh"
      }
    },
    {
      "cell_type": "code",
      "source": [
        "subs = 'levit|resnetd?|regnetx|vgg|convnext.*|efficientnetv2|beit|swin'"
      ],
      "metadata": {
        "execution": {
          "iopub.status.busy": "2025-06-13T22:12:21.940606Z",
          "iopub.execute_input": "2025-06-13T22:12:21.940814Z",
          "iopub.status.idle": "2025-06-13T22:12:21.945142Z",
          "shell.execute_reply.started": "2025-06-13T22:12:21.940790Z",
          "shell.execute_reply": "2025-06-13T22:12:21.944317Z"
        },
        "trusted": true,
        "id": "f5CpzHDi0KSh"
      },
      "outputs": [],
      "execution_count": 8
    },
    {
      "cell_type": "markdown",
      "source": [
        "In this chart, I'll add lines through the points of each family, to help see how they compare -- but note that we can see that a linear fit isn't actually ideal here! It's just there to help visually see the groups."
      ],
      "metadata": {
        "id": "pDj3ANWl0KSh"
      }
    },
    {
      "cell_type": "code",
      "source": [
        "def show_subs(df, title, size):\n",
        "    df_subs = df[df.family.str.fullmatch(subs)]\n",
        "    return px.scatter(df_subs, width=w, height=h, size=df_subs[size]**2, title=title,\n",
        "        trendline=\"ols\", trendline_options={'log_x':True},\n",
        "        x='secs',  y='top1', log_x=True, color='family', hover_name='model_org', hover_data=[size])"
      ],
      "metadata": {
        "execution": {
          "iopub.status.busy": "2025-06-13T22:12:21.946534Z",
          "iopub.execute_input": "2025-06-13T22:12:21.946813Z",
          "iopub.status.idle": "2025-06-13T22:12:21.958390Z",
          "shell.execute_reply.started": "2025-06-13T22:12:21.946782Z",
          "shell.execute_reply": "2025-06-13T22:12:21.957477Z"
        },
        "trusted": true,
        "id": "fRp2N6tR0KSh"
      },
      "outputs": [],
      "execution_count": null
    },
    {
      "cell_type": "code",
      "source": [
        "show_subs(df, 'Inference', 'infer_img_size')"
      ],
      "metadata": {
        "execution": {
          "iopub.status.busy": "2025-06-13T22:12:21.959762Z",
          "iopub.execute_input": "2025-06-13T22:12:21.960083Z",
          "iopub.status.idle": "2025-06-13T22:12:23.031831Z",
          "shell.execute_reply.started": "2025-06-13T22:12:21.960038Z",
          "shell.execute_reply": "2025-06-13T22:12:23.031038Z"
        },
        "trusted": true,
        "id": "jpccxiOX0KSh"
      },
      "outputs": [],
      "execution_count": null
    },
    {
      "cell_type": "markdown",
      "source": [
        "From this, we can see that the *levit* family models are extremely fast for image recognition, and clearly the most accurate amongst the faster models. That's not surprising, since these models are a hybrid of the best ideas from CNNs and transformers, so get the benefit of each. In fact, we see a similar thing even in the middle category of speeds -- the best is the ConvNeXt, which is a pure CNN, but which takes advantage of ideas from the transformers literature.\n",
        "\n",
        "For the slowest models, *beit* is the most accurate -- although we need to be a bit careful of interpreting this, since it's trained on a larger dataset (ImageNet-21k, which is also used for *vit* models).\n",
        "\n",
        "I'll add one other plot here, which is of speed vs parameter count. Often, parameter count is used in papers as a proxy for speed. However, as we see, there is a wide variation in speeds at each level of parameter count, so it's really not a useful proxy.\n",
        "\n",
        "(Parameter count may be be useful for identifying how much memory a model needs, but even for that it's not always a great proxy.)"
      ],
      "metadata": {
        "id": "h9vWLCJp0KSh"
      }
    },
    {
      "cell_type": "code",
      "source": [
        "px.scatter(df, width=w, height=h,\n",
        "    x='param_count_x',  y='secs', log_x=True, log_y=True, color='infer_img_size',\n",
        "    hover_name='model_org', hover_data=['infer_samples_per_sec', 'family']\n",
        ")"
      ],
      "metadata": {
        "execution": {
          "iopub.status.busy": "2025-06-13T22:12:23.033647Z",
          "iopub.execute_input": "2025-06-13T22:12:23.034535Z",
          "iopub.status.idle": "2025-06-13T22:12:23.129776Z",
          "shell.execute_reply.started": "2025-06-13T22:12:23.034496Z",
          "shell.execute_reply": "2025-06-13T22:12:23.128900Z"
        },
        "trusted": true,
        "id": "jkIecmlj0KSi"
      },
      "outputs": [],
      "execution_count": null
    },
    {
      "cell_type": "markdown",
      "source": [
        "## Training results"
      ],
      "metadata": {
        "id": "dsFvdHfp0KSi"
      }
    },
    {
      "cell_type": "markdown",
      "source": [
        "We'll now replicate the above analysis for training performance. First we grab the data:"
      ],
      "metadata": {
        "id": "m7Qp4r3W0KSi"
      }
    },
    {
      "cell_type": "code",
      "source": [
        "tdf = get_data('train', 'train_samples_per_sec')"
      ],
      "metadata": {
        "execution": {
          "iopub.status.busy": "2025-06-13T22:12:23.130978Z",
          "iopub.execute_input": "2025-06-13T22:12:23.131193Z",
          "iopub.status.idle": "2025-06-13T22:12:23.295594Z",
          "shell.execute_reply.started": "2025-06-13T22:12:23.131167Z",
          "shell.execute_reply": "2025-06-13T22:12:23.294197Z"
        },
        "trusted": true,
        "id": "wobif_0r0KSi"
      },
      "outputs": [],
      "execution_count": null
    },
    {
      "cell_type": "markdown",
      "source": [
        "Now we can repeat the same *family* plot we did above:"
      ],
      "metadata": {
        "id": "0Hhv9GTE0KSi"
      }
    },
    {
      "cell_type": "code",
      "source": [
        "show_all(tdf, 'Training', 'train_img_size')"
      ],
      "metadata": {
        "execution": {
          "iopub.status.busy": "2025-06-13T22:12:23.296605Z",
          "iopub.status.idle": "2025-06-13T22:12:23.296939Z",
          "shell.execute_reply.started": "2025-06-13T22:12:23.296765Z",
          "shell.execute_reply": "2025-06-13T22:12:23.296790Z"
        },
        "trusted": true,
        "id": "kXM_beqL0KSi"
      },
      "outputs": [],
      "execution_count": null
    },
    {
      "cell_type": "markdown",
      "source": [
        "...and we'll also look at our chosen subset of models:"
      ],
      "metadata": {
        "id": "M6nP_IAU0KSi"
      }
    },
    {
      "cell_type": "code",
      "source": [
        "show_subs(tdf, 'Training', 'train_img_size')"
      ],
      "metadata": {
        "execution": {
          "iopub.status.busy": "2025-06-13T22:12:23.299677Z",
          "iopub.status.idle": "2025-06-13T22:12:23.300099Z",
          "shell.execute_reply.started": "2025-06-13T22:12:23.299879Z",
          "shell.execute_reply": "2025-06-13T22:12:23.299900Z"
        },
        "trusted": true,
        "id": "dtswo6o60KSi"
      },
      "outputs": [],
      "execution_count": null
    },
    {
      "cell_type": "markdown",
      "source": [
        "Finally, we should remember that speed depends on hardware. If you're using something other than a modern NVIDIA GPU, your results may be different. In particular, I suspect that transformers-based models might have worse performance in general on CPUs (although I need to study this more to be sure)."
      ],
      "metadata": {
        "id": "GkIAi-b20KSi"
      }
    }
  ]
}